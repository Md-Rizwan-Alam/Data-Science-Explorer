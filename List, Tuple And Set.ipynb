{
 "cells": [
  {
   "cell_type": "code",
   "execution_count": null,
   "id": "bb62b23c-1243-416c-81bf-d3ee7b9f57b7",
   "metadata": {},
   "outputs": [],
   "source": [
    "#List Data Type"
   ]
  },
  {
   "cell_type": "code",
   "execution_count": 4,
   "id": "ebc2b05f-7b6a-4f3d-9935-e2523df83fa2",
   "metadata": {},
   "outputs": [],
   "source": [
    "a =[1 ,2 , 456 ,'rizwan' ,True ,2+5j ,23.23]"
   ]
  },
  {
   "cell_type": "code",
   "execution_count": 5,
   "id": "febe6dfb-2c62-486b-90e4-11b29cc70e4e",
   "metadata": {},
   "outputs": [
    {
     "data": {
      "text/plain": [
       "list"
      ]
     },
     "execution_count": 5,
     "metadata": {},
     "output_type": "execute_result"
    }
   ],
   "source": [
    "type(a)"
   ]
  },
  {
   "cell_type": "code",
   "execution_count": 6,
   "id": "52b9f138-d16b-4cd8-bd68-d2b4ba9779a1",
   "metadata": {},
   "outputs": [
    {
     "data": {
      "text/plain": [
       "2"
      ]
     },
     "execution_count": 6,
     "metadata": {},
     "output_type": "execute_result"
    }
   ],
   "source": [
    "a[1]"
   ]
  },
  {
   "cell_type": "code",
   "execution_count": 8,
   "id": "af6e716b-6aca-43fb-80da-792272e1c161",
   "metadata": {},
   "outputs": [
    {
     "data": {
      "text/plain": [
       "[1, 2, 456, 'rizwan', True, (2+5j), 23.23]"
      ]
     },
     "execution_count": 8,
     "metadata": {},
     "output_type": "execute_result"
    }
   ],
   "source": [
    "a[0:7]"
   ]
  },
  {
   "cell_type": "code",
   "execution_count": 9,
   "id": "2ae6247f-3f1c-48fe-aafe-26ad7886c34d",
   "metadata": {},
   "outputs": [
    {
     "data": {
      "text/plain": [
       "[1, 2, 456, 'rizwan', True, (2+5j), 23.23]"
      ]
     },
     "execution_count": 9,
     "metadata": {},
     "output_type": "execute_result"
    }
   ],
   "source": [
    "a"
   ]
  },
  {
   "cell_type": "code",
   "execution_count": 10,
   "id": "4a9111d3-eb0f-44ad-a1aa-697fa8efddcb",
   "metadata": {},
   "outputs": [
    {
     "data": {
      "text/plain": [
       "[1, 2, 456, 'rizwan', True, (2+5j), 23.23]"
      ]
     },
     "execution_count": 10,
     "metadata": {},
     "output_type": "execute_result"
    }
   ],
   "source": [
    "a[::]"
   ]
  },
  {
   "cell_type": "code",
   "execution_count": 12,
   "id": "61bb4eb9-c58d-4bbc-9a42-cd76865625fc",
   "metadata": {},
   "outputs": [
    {
     "data": {
      "text/plain": [
       "[1, 2, 456, 'rizwan', True, (2+5j), 23.23]"
      ]
     },
     "execution_count": 12,
     "metadata": {},
     "output_type": "execute_result"
    }
   ],
   "source": [
    "a[::1]"
   ]
  },
  {
   "cell_type": "code",
   "execution_count": null,
   "id": "7fd24857-8813-4509-8842-4b9e2fff222d",
   "metadata": {},
   "outputs": [
    {
     "data": {
      "text/plain": [
       "[1, 2, 456, 'rizwan', True, (2+5j), 23.23]"
      ]
     },
     "execution_count": 13,
     "metadata": {},
     "output_type": "execute_result"
    }
   ],
   "source": [
    "a"
   ]
  },
  {
   "cell_type": "code",
   "execution_count": 14,
   "id": "1b007eeb-a990-43de-b998-63117a56a7f8",
   "metadata": {},
   "outputs": [
    {
     "data": {
      "text/plain": [
       "'rizwan'"
      ]
     },
     "execution_count": 14,
     "metadata": {},
     "output_type": "execute_result"
    }
   ],
   "source": [
    "a[3]"
   ]
  },
  {
   "cell_type": "code",
   "execution_count": 19,
   "id": "a59b0568-76b1-4d0f-86a5-7e1bf49f231c",
   "metadata": {},
   "outputs": [],
   "source": [
    "a[3]='KHAN'"
   ]
  },
  {
   "cell_type": "code",
   "execution_count": 16,
   "id": "a452704f-b264-4fb8-aeba-3cf229f913e2",
   "metadata": {},
   "outputs": [
    {
     "data": {
      "text/plain": [
       "[1, 2, 456, 'KHAN', True, (2+5j), 23.23]"
      ]
     },
     "execution_count": 16,
     "metadata": {},
     "output_type": "execute_result"
    }
   ],
   "source": [
    "a"
   ]
  },
  {
   "cell_type": "code",
   "execution_count": 20,
   "id": "953939da-5158-4bd1-9210-04540825aba8",
   "metadata": {},
   "outputs": [
    {
     "data": {
      "text/plain": [
       "23.23"
      ]
     },
     "execution_count": 20,
     "metadata": {},
     "output_type": "execute_result"
    }
   ],
   "source": [
    "a[-1]"
   ]
  },
  {
   "cell_type": "code",
   "execution_count": 32,
   "id": "44d053cc-ae0b-46e0-9e0c-5572dbd2e45c",
   "metadata": {},
   "outputs": [],
   "source": [
    "a[0] = 7\n",
    "a[1] = 8\n",
    "a[3] = 444\n",
    "a[4] = 'delhi'\n",
    "a[5] = False\n",
    "a[6] = 4+10j"
   ]
  },
  {
   "cell_type": "code",
   "execution_count": 33,
   "id": "13ad91ad-4fb7-4635-9f51-c1d2735204ec",
   "metadata": {},
   "outputs": [
    {
     "data": {
      "text/plain": [
       "[7, 8, 456, 444, 'delhi', False, (4+10j)]"
      ]
     },
     "execution_count": 33,
     "metadata": {},
     "output_type": "execute_result"
    }
   ],
   "source": [
    "a"
   ]
  },
  {
   "cell_type": "code",
   "execution_count": null,
   "id": "237d1b4f-c5a3-44e6-a8de-a0b676889d75",
   "metadata": {},
   "outputs": [],
   "source": [
    "#in this way we can change whole data inside the list"
   ]
  },
  {
   "cell_type": "code",
   "execution_count": 34,
   "id": "95303127-2394-4536-81c1-43c67f9f6eed",
   "metadata": {},
   "outputs": [],
   "source": [
    "b= 'rizwan'"
   ]
  },
  {
   "cell_type": "code",
   "execution_count": 35,
   "id": "0a61e2ca-e897-47d5-b136-18d29aef8c87",
   "metadata": {},
   "outputs": [
    {
     "data": {
      "text/plain": [
       "['r', 'i', 'z', 'w', 'a', 'n']"
      ]
     },
     "execution_count": 35,
     "metadata": {},
     "output_type": "execute_result"
    }
   ],
   "source": [
    "list(b)"
   ]
  },
  {
   "cell_type": "code",
   "execution_count": 38,
   "id": "14fa4a5d-924b-4784-9ee8-4056135897e8",
   "metadata": {},
   "outputs": [
    {
     "data": {
      "text/plain": [
       "[7, 8, 456, 444, 'delhi', False, (4+10j)]"
      ]
     },
     "execution_count": 38,
     "metadata": {},
     "output_type": "execute_result"
    }
   ],
   "source": [
    "a"
   ]
  },
  {
   "cell_type": "code",
   "execution_count": 39,
   "id": "14aa9e71-9e53-4ac1-b9a8-0d36a8cdf400",
   "metadata": {},
   "outputs": [
    {
     "data": {
      "text/plain": [
       "'delhi'"
      ]
     },
     "execution_count": 39,
     "metadata": {},
     "output_type": "execute_result"
    }
   ],
   "source": [
    "a[4]"
   ]
  },
  {
   "cell_type": "code",
   "execution_count": 40,
   "id": "2ac0e9e8-ebe1-4523-9bc4-55800a670d28",
   "metadata": {},
   "outputs": [
    {
     "data": {
      "text/plain": [
       "str"
      ]
     },
     "execution_count": 40,
     "metadata": {},
     "output_type": "execute_result"
    }
   ],
   "source": [
    "type(a[4])"
   ]
  },
  {
   "cell_type": "code",
   "execution_count": 41,
   "id": "28efecaf-13f3-4967-a530-4515fb63eef0",
   "metadata": {},
   "outputs": [
    {
     "data": {
      "text/plain": [
       "'de'"
      ]
     },
     "execution_count": 41,
     "metadata": {},
     "output_type": "execute_result"
    }
   ],
   "source": [
    "a[4][0:2]"
   ]
  },
  {
   "cell_type": "code",
   "execution_count": 42,
   "id": "26a29174-0e18-4fe0-a20d-c23fc6e632b3",
   "metadata": {},
   "outputs": [
    {
     "data": {
      "text/plain": [
       "False"
      ]
     },
     "execution_count": 42,
     "metadata": {},
     "output_type": "execute_result"
    }
   ],
   "source": [
    "a[5]"
   ]
  },
  {
   "cell_type": "code",
   "execution_count": 46,
   "id": "c69e7f6a-a153-4a18-9748-285091ed4abd",
   "metadata": {},
   "outputs": [
    {
     "data": {
      "text/plain": [
       "'Fa'"
      ]
     },
     "execution_count": 46,
     "metadata": {},
     "output_type": "execute_result"
    }
   ],
   "source": [
    "str(a[5])[0:2]"
   ]
  },
  {
   "cell_type": "code",
   "execution_count": 47,
   "id": "25814b0a-ea2e-4a70-a9ea-00b63e203b1c",
   "metadata": {},
   "outputs": [
    {
     "data": {
      "text/plain": [
       "[7, 8, 456, 444, 'delhi', False, (4+10j)]"
      ]
     },
     "execution_count": 47,
     "metadata": {},
     "output_type": "execute_result"
    }
   ],
   "source": [
    "a"
   ]
  },
  {
   "cell_type": "code",
   "execution_count": 48,
   "id": "278df151-0c52-48ca-b0a6-e837cc37dd03",
   "metadata": {},
   "outputs": [
    {
     "ename": "TypeError",
     "evalue": "can only concatenate list (not \"int\") to list",
     "output_type": "error",
     "traceback": [
      "\u001b[0;31m---------------------------------------------------------------------------\u001b[0m",
      "\u001b[0;31mTypeError\u001b[0m                                 Traceback (most recent call last)",
      "Cell \u001b[0;32mIn[48], line 1\u001b[0m\n\u001b[0;32m----> 1\u001b[0m \u001b[43ma\u001b[49m\u001b[38;5;241;43m+\u001b[39;49m\u001b[43m \u001b[49m\u001b[38;5;241;43m5\u001b[39;49m\n",
      "\u001b[0;31mTypeError\u001b[0m: can only concatenate list (not \"int\") to list"
     ]
    }
   ],
   "source": [
    "a+ 5"
   ]
  },
  {
   "cell_type": "code",
   "execution_count": 49,
   "id": "f7f13b24-070c-4933-a65a-cb68c84617dc",
   "metadata": {},
   "outputs": [],
   "source": [
    "a1 =[1,2,3]"
   ]
  },
  {
   "cell_type": "code",
   "execution_count": 50,
   "id": "7057f807-ee88-489f-a44b-947eb720718d",
   "metadata": {},
   "outputs": [
    {
     "data": {
      "text/plain": [
       "[7, 8, 456, 444, 'delhi', False, (4+10j), 1, 2, 3]"
      ]
     },
     "execution_count": 50,
     "metadata": {},
     "output_type": "execute_result"
    }
   ],
   "source": [
    "a+a1"
   ]
  },
  {
   "cell_type": "code",
   "execution_count": 51,
   "id": "95e34035-476b-4428-accc-10eea9f359f3",
   "metadata": {},
   "outputs": [
    {
     "data": {
      "text/plain": [
       "[1, 2, 3, 1, 2, 3, 1, 2, 3]"
      ]
     },
     "execution_count": 51,
     "metadata": {},
     "output_type": "execute_result"
    }
   ],
   "source": [
    "a1*3"
   ]
  },
  {
   "cell_type": "code",
   "execution_count": 52,
   "id": "af184caf-610c-4d1e-96f2-eb21e8736ee3",
   "metadata": {},
   "outputs": [
    {
     "ename": "TypeError",
     "evalue": "can't multiply sequence by non-int of type 'list'",
     "output_type": "error",
     "traceback": [
      "\u001b[0;31m---------------------------------------------------------------------------\u001b[0m",
      "\u001b[0;31mTypeError\u001b[0m                                 Traceback (most recent call last)",
      "Cell \u001b[0;32mIn[52], line 1\u001b[0m\n\u001b[0;32m----> 1\u001b[0m \u001b[43ma\u001b[49m\u001b[38;5;241;43m*\u001b[39;49m\u001b[43ma1\u001b[49m\n",
      "\u001b[0;31mTypeError\u001b[0m: can't multiply sequence by non-int of type 'list'"
     ]
    }
   ],
   "source": [
    "a*a1"
   ]
  },
  {
   "cell_type": "code",
   "execution_count": 53,
   "id": "930745ce-d94c-461c-9c87-20ee9c1ac086",
   "metadata": {},
   "outputs": [
    {
     "data": {
      "text/plain": [
       "[7, 8, 456, 444, 'delhi', False, (4+10j)]"
      ]
     },
     "execution_count": 53,
     "metadata": {},
     "output_type": "execute_result"
    }
   ],
   "source": [
    "a"
   ]
  },
  {
   "cell_type": "code",
   "execution_count": 56,
   "id": "408243fc-364a-4b4f-87cf-1ed7832bff4e",
   "metadata": {},
   "outputs": [
    {
     "data": {
      "text/plain": [
       "7"
      ]
     },
     "execution_count": 56,
     "metadata": {},
     "output_type": "execute_result"
    }
   ],
   "source": [
    "len(a)"
   ]
  },
  {
   "cell_type": "code",
   "execution_count": 57,
   "id": "45c97df6-9511-4d73-b340-4fc8cc881171",
   "metadata": {},
   "outputs": [
    {
     "data": {
      "text/plain": [
       "[7, 8, 456, 444, 'delhi', False, (4+10j)]"
      ]
     },
     "execution_count": 57,
     "metadata": {},
     "output_type": "execute_result"
    }
   ],
   "source": [
    "a"
   ]
  },
  {
   "cell_type": "code",
   "execution_count": 91,
   "id": "27cef174-14d1-470c-b270-1eb00324aee2",
   "metadata": {},
   "outputs": [],
   "source": [
    "#append function"
   ]
  },
  {
   "cell_type": "code",
   "execution_count": 58,
   "id": "25b7310e-34d1-444e-8c7a-ec0b04ec775c",
   "metadata": {},
   "outputs": [],
   "source": [
    "a.append(5)"
   ]
  },
  {
   "cell_type": "code",
   "execution_count": 59,
   "id": "7f0294fa-4e18-4e16-830a-4c802dd5e020",
   "metadata": {},
   "outputs": [
    {
     "data": {
      "text/plain": [
       "[7, 8, 456, 444, 'delhi', False, (4+10j), 5]"
      ]
     },
     "execution_count": 59,
     "metadata": {},
     "output_type": "execute_result"
    }
   ],
   "source": [
    "a"
   ]
  },
  {
   "cell_type": "code",
   "execution_count": 60,
   "id": "c8bd3942-1f0d-4891-9865-360248a72406",
   "metadata": {},
   "outputs": [],
   "source": [
    "#with \"append\" function you can add data in list"
   ]
  },
  {
   "cell_type": "code",
   "execution_count": 62,
   "id": "4442957c-c960-4178-be0d-733a967e3352",
   "metadata": {},
   "outputs": [],
   "source": [
    "a.append('rizwan')"
   ]
  },
  {
   "cell_type": "code",
   "execution_count": 63,
   "id": "b42b9f92-768d-4a7c-aa67-6916ec3a4683",
   "metadata": {},
   "outputs": [
    {
     "data": {
      "text/plain": [
       "[7, 8, 456, 444, 'delhi', False, (4+10j), 5, 'rizwan']"
      ]
     },
     "execution_count": 63,
     "metadata": {},
     "output_type": "execute_result"
    }
   ],
   "source": [
    "a"
   ]
  },
  {
   "cell_type": "code",
   "execution_count": 64,
   "id": "3452becb-9919-4bb5-826e-96291208246a",
   "metadata": {},
   "outputs": [
    {
     "data": {
      "text/plain": [
       "[1, 2, 3]"
      ]
     },
     "execution_count": 64,
     "metadata": {},
     "output_type": "execute_result"
    }
   ],
   "source": [
    "a1"
   ]
  },
  {
   "cell_type": "code",
   "execution_count": 67,
   "id": "7b8aa5aa-90e5-4c60-a4a3-2f6de10a08c8",
   "metadata": {},
   "outputs": [],
   "source": [
    "c = [10, 20, 30]"
   ]
  },
  {
   "cell_type": "code",
   "execution_count": 68,
   "id": "a8cb27c9-c454-4d2d-bb7e-998b83db3315",
   "metadata": {},
   "outputs": [],
   "source": [
    "a.append(c)"
   ]
  },
  {
   "cell_type": "code",
   "execution_count": 69,
   "id": "fcfacec8-43eb-4907-b758-a78ba1ae8d8b",
   "metadata": {},
   "outputs": [
    {
     "data": {
      "text/plain": [
       "[7, 8, 456, 444, 'delhi', False, (4+10j), 5, 'rizwan', [10, 20, 30]]"
      ]
     },
     "execution_count": 69,
     "metadata": {},
     "output_type": "execute_result"
    }
   ],
   "source": [
    "a"
   ]
  },
  {
   "cell_type": "code",
   "execution_count": 70,
   "id": "9c4383cf-09a6-467f-8745-527b5e56ee07",
   "metadata": {},
   "outputs": [
    {
     "data": {
      "text/plain": [
       "[1, 2, 3]"
      ]
     },
     "execution_count": 70,
     "metadata": {},
     "output_type": "execute_result"
    }
   ],
   "source": [
    "a1"
   ]
  },
  {
   "cell_type": "code",
   "execution_count": 72,
   "id": "757213bc-450a-4014-a842-589dba90af18",
   "metadata": {},
   "outputs": [],
   "source": [
    "a.append(a1)"
   ]
  },
  {
   "cell_type": "code",
   "execution_count": 73,
   "id": "c9f32779-e3e0-4a16-a876-147b4c75e7d8",
   "metadata": {},
   "outputs": [
    {
     "data": {
      "text/plain": [
       "[7, 8, 456, 444, 'delhi', False, (4+10j), 5, 'rizwan', [10, 20, 30], [1, 2, 3]]"
      ]
     },
     "execution_count": 73,
     "metadata": {},
     "output_type": "execute_result"
    }
   ],
   "source": [
    "a"
   ]
  },
  {
   "cell_type": "code",
   "execution_count": 74,
   "id": "45f252a7-b737-470a-8e4c-48ad2e7823c1",
   "metadata": {},
   "outputs": [
    {
     "data": {
      "text/plain": [
       "11"
      ]
     },
     "execution_count": 74,
     "metadata": {},
     "output_type": "execute_result"
    }
   ],
   "source": [
    "len(a)"
   ]
  },
  {
   "cell_type": "code",
   "execution_count": 75,
   "id": "a889a5c6-bd5f-4655-aa0f-68a50c6591df",
   "metadata": {},
   "outputs": [
    {
     "data": {
      "text/plain": [
       "2"
      ]
     },
     "execution_count": 75,
     "metadata": {},
     "output_type": "execute_result"
    }
   ],
   "source": [
    "a[-1][1]"
   ]
  },
  {
   "cell_type": "code",
   "execution_count": 76,
   "id": "c09ac7cd-514d-416b-901b-d929f2edb465",
   "metadata": {},
   "outputs": [
    {
     "data": {
      "text/plain": [
       "[7, 8, 456, 444, 'delhi', False, (4+10j), 5, 'rizwan', [10, 20, 30], [1, 2, 3]]"
      ]
     },
     "execution_count": 76,
     "metadata": {},
     "output_type": "execute_result"
    }
   ],
   "source": [
    "a"
   ]
  },
  {
   "cell_type": "code",
   "execution_count": 90,
   "id": "fa488f5b-4850-405d-8ee7-2e5dbd46f2ac",
   "metadata": {},
   "outputs": [],
   "source": [
    "#extend function"
   ]
  },
  {
   "cell_type": "code",
   "execution_count": 77,
   "id": "99aabaca-487f-42b2-a72b-93e989c6e894",
   "metadata": {},
   "outputs": [
    {
     "ename": "TypeError",
     "evalue": "'int' object is not iterable",
     "output_type": "error",
     "traceback": [
      "\u001b[0;31m---------------------------------------------------------------------------\u001b[0m",
      "\u001b[0;31mTypeError\u001b[0m                                 Traceback (most recent call last)",
      "Cell \u001b[0;32mIn[77], line 1\u001b[0m\n\u001b[0;32m----> 1\u001b[0m \u001b[43ma\u001b[49m\u001b[38;5;241;43m.\u001b[39;49m\u001b[43mextend\u001b[49m\u001b[43m(\u001b[49m\u001b[38;5;241;43m4\u001b[39;49m\u001b[43m)\u001b[49m\n",
      "\u001b[0;31mTypeError\u001b[0m: 'int' object is not iterable"
     ]
    }
   ],
   "source": [
    "a.extend(4)"
   ]
  },
  {
   "cell_type": "code",
   "execution_count": 78,
   "id": "eeefd3bd-aee1-4e92-bae4-22c3194cf595",
   "metadata": {},
   "outputs": [],
   "source": [
    "#int is not working in extend function"
   ]
  },
  {
   "cell_type": "code",
   "execution_count": 79,
   "id": "a2c38ebf-47e0-4460-8f06-f0059f3aa1b0",
   "metadata": {},
   "outputs": [],
   "source": [
    "a.extend('delhi')"
   ]
  },
  {
   "cell_type": "code",
   "execution_count": 80,
   "id": "6be2c615-4b10-4c5c-b93e-f0e353685583",
   "metadata": {},
   "outputs": [],
   "source": [
    "#str is working"
   ]
  },
  {
   "cell_type": "code",
   "execution_count": 81,
   "id": "a75d1b69-54ec-4215-a009-e24401d250d9",
   "metadata": {},
   "outputs": [
    {
     "data": {
      "text/plain": [
       "[7,\n",
       " 8,\n",
       " 456,\n",
       " 444,\n",
       " 'delhi',\n",
       " False,\n",
       " (4+10j),\n",
       " 5,\n",
       " 'rizwan',\n",
       " [10, 20, 30],\n",
       " [1, 2, 3],\n",
       " 'd',\n",
       " 'e',\n",
       " 'l',\n",
       " 'h',\n",
       " 'i']"
      ]
     },
     "execution_count": 81,
     "metadata": {},
     "output_type": "execute_result"
    }
   ],
   "source": [
    "a"
   ]
  },
  {
   "cell_type": "code",
   "execution_count": 82,
   "id": "eb031f91-27da-475c-84f2-027463855d6b",
   "metadata": {},
   "outputs": [],
   "source": [
    "#extend can be done only with the item can be devided"
   ]
  },
  {
   "cell_type": "code",
   "execution_count": 84,
   "id": "5d4ae940-5d76-4f27-bad2-e3c3b1410afa",
   "metadata": {},
   "outputs": [],
   "source": [
    "a.extend([10, 20, 30])"
   ]
  },
  {
   "cell_type": "code",
   "execution_count": 85,
   "id": "21f7f158-fc52-466a-8c38-c4370e306302",
   "metadata": {},
   "outputs": [
    {
     "data": {
      "text/plain": [
       "[7,\n",
       " 8,\n",
       " 456,\n",
       " 444,\n",
       " 'delhi',\n",
       " False,\n",
       " (4+10j),\n",
       " 5,\n",
       " 'rizwan',\n",
       " [10, 20, 30],\n",
       " [1, 2, 3],\n",
       " 'd',\n",
       " 'e',\n",
       " 'l',\n",
       " 'h',\n",
       " 'i',\n",
       " 10,\n",
       " 20,\n",
       " 30]"
      ]
     },
     "execution_count": 85,
     "metadata": {},
     "output_type": "execute_result"
    }
   ],
   "source": [
    "a"
   ]
  },
  {
   "cell_type": "code",
   "execution_count": 86,
   "id": "8f77bd6a-9a24-4568-8b2a-b9ec3647cb98",
   "metadata": {},
   "outputs": [],
   "source": [
    "#append can be keep data as it is but extend keep the data as list(they extract the data first)"
   ]
  },
  {
   "cell_type": "code",
   "execution_count": 87,
   "id": "98266c04-cdc2-4172-834f-fdbaaaa2c7b4",
   "metadata": {},
   "outputs": [
    {
     "data": {
      "text/plain": [
       "[1, 2, 3]"
      ]
     },
     "execution_count": 87,
     "metadata": {},
     "output_type": "execute_result"
    }
   ],
   "source": [
    "a1"
   ]
  },
  {
   "cell_type": "code",
   "execution_count": 89,
   "id": "fe2d3394-43c2-46a5-a60a-f898a7c321ab",
   "metadata": {},
   "outputs": [],
   "source": [
    "#insert function"
   ]
  },
  {
   "cell_type": "code",
   "execution_count": 92,
   "id": "40f540e6-b9fa-4236-ad23-ac604d80b28c",
   "metadata": {},
   "outputs": [],
   "source": [
    "a1.insert(4, 'rizwan')"
   ]
  },
  {
   "cell_type": "code",
   "execution_count": 93,
   "id": "f79a450c-a763-479a-8b2d-36b1b2c50873",
   "metadata": {},
   "outputs": [
    {
     "data": {
      "text/plain": [
       "[1, 2, 3, 'rizwan']"
      ]
     },
     "execution_count": 93,
     "metadata": {},
     "output_type": "execute_result"
    }
   ],
   "source": [
    "a1"
   ]
  },
  {
   "cell_type": "code",
   "execution_count": 97,
   "id": "5cc7ee2b-414c-45e0-842c-bf14e704f0fc",
   "metadata": {},
   "outputs": [],
   "source": [
    "a1.insert(1, [7,8,9]) "
   ]
  },
  {
   "cell_type": "code",
   "execution_count": 98,
   "id": "d10efc21-c727-43ce-9f0b-826b43f0dd25",
   "metadata": {},
   "outputs": [
    {
     "data": {
      "text/plain": [
       "[1, [7, 8, 9], [1, 2, 3], 2, 3, 'rizwan']"
      ]
     },
     "execution_count": 98,
     "metadata": {},
     "output_type": "execute_result"
    }
   ],
   "source": [
    "a1"
   ]
  },
  {
   "cell_type": "code",
   "execution_count": 101,
   "id": "bc19699e-4562-4c98-b80a-af717c32ac26",
   "metadata": {},
   "outputs": [],
   "source": [
    "a1.insert(-1, 'khan')"
   ]
  },
  {
   "cell_type": "code",
   "execution_count": 102,
   "id": "c276ba3d-9a63-4c37-87e0-075930e995f6",
   "metadata": {},
   "outputs": [
    {
     "data": {
      "text/plain": [
       "[1, [7, 8, 9], [1, 2, 3], 2, 3, 'khan', 'rizwan']"
      ]
     },
     "execution_count": 102,
     "metadata": {},
     "output_type": "execute_result"
    }
   ],
   "source": [
    "a1"
   ]
  },
  {
   "cell_type": "code",
   "execution_count": 104,
   "id": "af43ca5a-054a-49c5-bbd4-10e233da8b0c",
   "metadata": {},
   "outputs": [],
   "source": [
    "#with the insert function you can insert data wherever you want in list"
   ]
  },
  {
   "cell_type": "code",
   "execution_count": 105,
   "id": "d0f666e5-b21f-4493-afd6-dd2791b7e271",
   "metadata": {},
   "outputs": [],
   "source": [
    "a1.insert(0, 'khan')"
   ]
  },
  {
   "cell_type": "code",
   "execution_count": 106,
   "id": "746c5a66-39ec-485d-94ff-ad48d957f8d5",
   "metadata": {},
   "outputs": [
    {
     "data": {
      "text/plain": [
       "['khan', 1, [7, 8, 9], [1, 2, 3], 2, 3, 'khan', 'rizwan']"
      ]
     },
     "execution_count": 106,
     "metadata": {},
     "output_type": "execute_result"
    }
   ],
   "source": [
    "a1"
   ]
  },
  {
   "cell_type": "code",
   "execution_count": 108,
   "id": "2e561676-5bf5-4b82-afd5-30907f0a55a4",
   "metadata": {},
   "outputs": [],
   "source": [
    "#pop and remove function\n",
    "#with this function you can remove and back the data"
   ]
  },
  {
   "cell_type": "code",
   "execution_count": 109,
   "id": "ddec72aa-0b5e-47b1-97b2-a806df69e4d8",
   "metadata": {},
   "outputs": [
    {
     "data": {
      "text/plain": [
       "'rizwan'"
      ]
     },
     "execution_count": 109,
     "metadata": {},
     "output_type": "execute_result"
    }
   ],
   "source": [
    "a1.pop()"
   ]
  },
  {
   "cell_type": "code",
   "execution_count": 110,
   "id": "da1337dc-3ebe-4e09-893f-a8db4fe39bff",
   "metadata": {},
   "outputs": [
    {
     "data": {
      "text/plain": [
       "['khan', 1, [7, 8, 9], [1, 2, 3], 2, 3, 'khan']"
      ]
     },
     "execution_count": 110,
     "metadata": {},
     "output_type": "execute_result"
    }
   ],
   "source": [
    "a1"
   ]
  },
  {
   "cell_type": "code",
   "execution_count": 112,
   "id": "3f5e1259-33c3-4c7b-8305-8c5df0fdbce4",
   "metadata": {},
   "outputs": [
    {
     "data": {
      "text/plain": [
       "'khan'"
      ]
     },
     "execution_count": 112,
     "metadata": {},
     "output_type": "execute_result"
    }
   ],
   "source": [
    "a1.pop()"
   ]
  },
  {
   "cell_type": "code",
   "execution_count": 113,
   "id": "6a682303-904f-482b-b87d-5a7f120b38f7",
   "metadata": {},
   "outputs": [
    {
     "data": {
      "text/plain": [
       "['khan', 1, [7, 8, 9], [1, 2, 3], 2, 3]"
      ]
     },
     "execution_count": 113,
     "metadata": {},
     "output_type": "execute_result"
    }
   ],
   "source": [
    "a1"
   ]
  },
  {
   "cell_type": "code",
   "execution_count": 114,
   "id": "7ede2782-d18c-40da-adf0-ac6dfca16f66",
   "metadata": {},
   "outputs": [
    {
     "data": {
      "text/plain": [
       "[1, 2, 3]"
      ]
     },
     "execution_count": 114,
     "metadata": {},
     "output_type": "execute_result"
    }
   ],
   "source": [
    "a1.pop(3)"
   ]
  },
  {
   "cell_type": "code",
   "execution_count": 115,
   "id": "d0fe8bcc-778c-4c9d-974f-239334c53bf3",
   "metadata": {},
   "outputs": [],
   "source": [
    "#pop remove the data by index, if it;s blank the it task -1 automatically, if you put number insider (), then it will remove the the index by number"
   ]
  },
  {
   "cell_type": "code",
   "execution_count": 116,
   "id": "83c8a089-d295-4a4b-b4c4-6ff6b3997361",
   "metadata": {},
   "outputs": [
    {
     "data": {
      "text/plain": [
       "['khan', 1, [7, 8, 9], 2, 3]"
      ]
     },
     "execution_count": 116,
     "metadata": {},
     "output_type": "execute_result"
    }
   ],
   "source": [
    "a1"
   ]
  },
  {
   "cell_type": "code",
   "execution_count": 118,
   "id": "e7e4d69f-11e5-46fd-9111-b528287b503d",
   "metadata": {},
   "outputs": [
    {
     "data": {
      "text/plain": [
       "3"
      ]
     },
     "execution_count": 118,
     "metadata": {},
     "output_type": "execute_result"
    }
   ],
   "source": [
    "a1.pop(4)"
   ]
  },
  {
   "cell_type": "code",
   "execution_count": 119,
   "id": "4a503e31-1989-417c-b1f6-fcb3cae558af",
   "metadata": {},
   "outputs": [
    {
     "data": {
      "text/plain": [
       "['khan', 1, [7, 8, 9], 2]"
      ]
     },
     "execution_count": 119,
     "metadata": {},
     "output_type": "execute_result"
    }
   ],
   "source": [
    "a1"
   ]
  },
  {
   "cell_type": "code",
   "execution_count": 120,
   "id": "fc74ce55-ebb8-419f-bbef-b47808c8ff7b",
   "metadata": {},
   "outputs": [
    {
     "ename": "TypeError",
     "evalue": "list.remove() takes exactly one argument (0 given)",
     "output_type": "error",
     "traceback": [
      "\u001b[0;31m---------------------------------------------------------------------------\u001b[0m",
      "\u001b[0;31mTypeError\u001b[0m                                 Traceback (most recent call last)",
      "Cell \u001b[0;32mIn[120], line 1\u001b[0m\n\u001b[0;32m----> 1\u001b[0m \u001b[43ma1\u001b[49m\u001b[38;5;241;43m.\u001b[39;49m\u001b[43mremove\u001b[49m\u001b[43m(\u001b[49m\u001b[43m)\u001b[49m\n",
      "\u001b[0;31mTypeError\u001b[0m: list.remove() takes exactly one argument (0 given)"
     ]
    }
   ],
   "source": [
    "a1.remove()"
   ]
  },
  {
   "cell_type": "code",
   "execution_count": 121,
   "id": "f9a4682b-37a7-4fec-b895-27ff2f54cabd",
   "metadata": {},
   "outputs": [],
   "source": [
    "#it means you have put the value inside () and it will be remove that data"
   ]
  },
  {
   "cell_type": "code",
   "execution_count": 122,
   "id": "7721e272-8720-4d30-aeb8-3734d137071d",
   "metadata": {},
   "outputs": [],
   "source": [
    "a1.remove('khan')"
   ]
  },
  {
   "cell_type": "code",
   "execution_count": 123,
   "id": "0f78e101-eef6-4172-8417-f541e9ee6710",
   "metadata": {},
   "outputs": [
    {
     "data": {
      "text/plain": [
       "[1, [7, 8, 9], 2]"
      ]
     },
     "execution_count": 123,
     "metadata": {},
     "output_type": "execute_result"
    }
   ],
   "source": [
    "a1"
   ]
  },
  {
   "cell_type": "code",
   "execution_count": 124,
   "id": "e4672736-6876-4a72-b13b-9e81cd268a94",
   "metadata": {},
   "outputs": [
    {
     "ename": "ValueError",
     "evalue": "list.remove(x): x not in list",
     "output_type": "error",
     "traceback": [
      "\u001b[0;31m---------------------------------------------------------------------------\u001b[0m",
      "\u001b[0;31mValueError\u001b[0m                                Traceback (most recent call last)",
      "Cell \u001b[0;32mIn[124], line 1\u001b[0m\n\u001b[0;32m----> 1\u001b[0m \u001b[43ma1\u001b[49m\u001b[38;5;241;43m.\u001b[39;49m\u001b[43mremove\u001b[49m\u001b[43m(\u001b[49m\u001b[38;5;241;43m10\u001b[39;49m\u001b[43m)\u001b[49m\n",
      "\u001b[0;31mValueError\u001b[0m: list.remove(x): x not in list"
     ]
    }
   ],
   "source": [
    "a1.remove(10)"
   ]
  },
  {
   "cell_type": "code",
   "execution_count": 125,
   "id": "8a3a064d-29f4-4862-8a4d-cf91c3c11db3",
   "metadata": {},
   "outputs": [],
   "source": [
    "#if data is not in list"
   ]
  },
  {
   "cell_type": "code",
   "execution_count": 127,
   "id": "d4961fed-1611-4163-a708-311030423756",
   "metadata": {},
   "outputs": [
    {
     "data": {
      "text/plain": [
       "[1, [7, 8, 9], 2]"
      ]
     },
     "execution_count": 127,
     "metadata": {},
     "output_type": "execute_result"
    }
   ],
   "source": [
    "a1"
   ]
  },
  {
   "cell_type": "code",
   "execution_count": 128,
   "id": "11d2df12-e801-4d1f-8b2f-ab2c913f35aa",
   "metadata": {},
   "outputs": [
    {
     "data": {
      "text/plain": [
       "[7, 8, 9]"
      ]
     },
     "execution_count": 128,
     "metadata": {},
     "output_type": "execute_result"
    }
   ],
   "source": [
    "a1[1]"
   ]
  },
  {
   "cell_type": "code",
   "execution_count": 129,
   "id": "b708dcf4-9d82-4bf5-bb7a-33a402933521",
   "metadata": {},
   "outputs": [],
   "source": [
    "a1[1].remove(9)"
   ]
  },
  {
   "cell_type": "code",
   "execution_count": 130,
   "id": "f6ebf91f-ce72-4587-a128-a92dfdd9a44c",
   "metadata": {},
   "outputs": [
    {
     "data": {
      "text/plain": [
       "[1, [7, 8], 2]"
      ]
     },
     "execution_count": 130,
     "metadata": {},
     "output_type": "execute_result"
    }
   ],
   "source": [
    "a1"
   ]
  },
  {
   "cell_type": "code",
   "execution_count": null,
   "id": "b57ba11a-6715-4834-bde9-826097f9aff7",
   "metadata": {},
   "outputs": [],
   "source": [
    "#if you want to remove the data from the list which is inside the list of list"
   ]
  },
  {
   "cell_type": "code",
   "execution_count": 131,
   "id": "e0e87d03-446f-479b-beb8-51c42d775499",
   "metadata": {},
   "outputs": [],
   "source": [
    "a1.append(2)"
   ]
  },
  {
   "cell_type": "code",
   "execution_count": 132,
   "id": "df5cf96d-df06-4ef0-bfe7-576b0d2c5110",
   "metadata": {},
   "outputs": [
    {
     "data": {
      "text/plain": [
       "[1, [7, 8], 2, 2]"
      ]
     },
     "execution_count": 132,
     "metadata": {},
     "output_type": "execute_result"
    }
   ],
   "source": [
    "a1"
   ]
  },
  {
   "cell_type": "code",
   "execution_count": 133,
   "id": "bcea337c-3bec-4afe-8f0a-44c8e3dddfb4",
   "metadata": {},
   "outputs": [],
   "source": [
    "a1.remove(2)"
   ]
  },
  {
   "cell_type": "code",
   "execution_count": 134,
   "id": "4aff38cc-2fd2-4610-a3ae-cdcbae8f1d69",
   "metadata": {},
   "outputs": [
    {
     "data": {
      "text/plain": [
       "[1, [7, 8], 2]"
      ]
     },
     "execution_count": 134,
     "metadata": {},
     "output_type": "execute_result"
    }
   ],
   "source": [
    "a1"
   ]
  },
  {
   "cell_type": "code",
   "execution_count": 135,
   "id": "7abadfda-18e4-468f-a0a5-1415da3c9501",
   "metadata": {},
   "outputs": [],
   "source": [
    "#remove function always remove the data which come first, if we have same data multiple time we have run this function again and again"
   ]
  },
  {
   "cell_type": "code",
   "execution_count": 136,
   "id": "88ea156a-a8a1-4800-a122-e179119c3482",
   "metadata": {},
   "outputs": [
    {
     "data": {
      "text/plain": [
       "[1, [7, 8], 2]"
      ]
     },
     "execution_count": 136,
     "metadata": {},
     "output_type": "execute_result"
    }
   ],
   "source": [
    "a1"
   ]
  },
  {
   "cell_type": "code",
   "execution_count": 137,
   "id": "ee9ad0f7-06f0-477d-bbba-3b262fb33a05",
   "metadata": {},
   "outputs": [
    {
     "data": {
      "text/plain": [
       "[2, [7, 8], 1]"
      ]
     },
     "execution_count": 137,
     "metadata": {},
     "output_type": "execute_result"
    }
   ],
   "source": [
    "a1[::-1]"
   ]
  },
  {
   "cell_type": "code",
   "execution_count": 138,
   "id": "0cba3fee-f3f5-4867-887c-6b1fc53204be",
   "metadata": {},
   "outputs": [],
   "source": [
    "#with this function only outcome is reversed, if you want reversed list permanately you have run 'reverse' function"
   ]
  },
  {
   "cell_type": "code",
   "execution_count": 139,
   "id": "59e874c8-4b38-4366-a88a-915e70f33138",
   "metadata": {},
   "outputs": [],
   "source": [
    "#reverse function"
   ]
  },
  {
   "cell_type": "code",
   "execution_count": 140,
   "id": "429512dc-bcf0-4fb6-a3bb-d9d21b90716e",
   "metadata": {},
   "outputs": [],
   "source": [
    "a1.reverse()"
   ]
  },
  {
   "cell_type": "code",
   "execution_count": 141,
   "id": "a6339d99-d55f-4e96-ad06-5102122c4c21",
   "metadata": {},
   "outputs": [
    {
     "data": {
      "text/plain": [
       "[2, [7, 8], 1]"
      ]
     },
     "execution_count": 141,
     "metadata": {},
     "output_type": "execute_result"
    }
   ],
   "source": [
    "a1"
   ]
  },
  {
   "cell_type": "code",
   "execution_count": 142,
   "id": "7dcd8a4d-37e3-43dc-95c1-706292875980",
   "metadata": {},
   "outputs": [],
   "source": [
    "#sort function"
   ]
  },
  {
   "cell_type": "code",
   "execution_count": 148,
   "id": "5bf0d749-14a3-4104-953e-8ec8a1ac0cc7",
   "metadata": {},
   "outputs": [
    {
     "ename": "TypeError",
     "evalue": "'<' not supported between instances of 'list' and 'int'",
     "output_type": "error",
     "traceback": [
      "\u001b[0;31m---------------------------------------------------------------------------\u001b[0m",
      "\u001b[0;31mTypeError\u001b[0m                                 Traceback (most recent call last)",
      "Cell \u001b[0;32mIn[148], line 1\u001b[0m\n\u001b[0;32m----> 1\u001b[0m \u001b[43ma1\u001b[49m\u001b[38;5;241;43m.\u001b[39;49m\u001b[43msort\u001b[49m\u001b[43m(\u001b[49m\u001b[43m)\u001b[49m\n",
      "\u001b[0;31mTypeError\u001b[0m: '<' not supported between instances of 'list' and 'int'"
     ]
    }
   ],
   "source": [
    "a1.sort()"
   ]
  },
  {
   "cell_type": "code",
   "execution_count": 144,
   "id": "446bcccb-2911-4baf-a07a-2cea1be68f37",
   "metadata": {},
   "outputs": [],
   "source": [
    "a2 =[25,10,35,45,55,20,30,40,50,60]"
   ]
  },
  {
   "cell_type": "code",
   "execution_count": 145,
   "id": "393ce558-d6f3-46f4-afef-07ec5e9027e0",
   "metadata": {},
   "outputs": [],
   "source": [
    "a2.sort()"
   ]
  },
  {
   "cell_type": "code",
   "execution_count": 146,
   "id": "b1b02b54-9d1d-4bcd-9a74-138a21a9cebd",
   "metadata": {},
   "outputs": [
    {
     "data": {
      "text/plain": [
       "[10, 20, 25, 30, 35, 40, 45, 50, 55, 60]"
      ]
     },
     "execution_count": 146,
     "metadata": {},
     "output_type": "execute_result"
    }
   ],
   "source": [
    "a2"
   ]
  },
  {
   "cell_type": "code",
   "execution_count": 149,
   "id": "703b863f-c9ae-4b96-ab14-18a71085bb11",
   "metadata": {},
   "outputs": [],
   "source": [
    "#sort function arrange the int data in ascending order"
   ]
  },
  {
   "cell_type": "code",
   "execution_count": 150,
   "id": "fd2ce358-07d5-4cb1-aa21-dba54435be69",
   "metadata": {},
   "outputs": [],
   "source": [
    "a3=[34, 'riz', 45,23,'skill']"
   ]
  },
  {
   "cell_type": "code",
   "execution_count": 151,
   "id": "7384cc1a-f4d8-4599-b50d-345f6e043dfc",
   "metadata": {},
   "outputs": [
    {
     "ename": "TypeError",
     "evalue": "'<' not supported between instances of 'str' and 'int'",
     "output_type": "error",
     "traceback": [
      "\u001b[0;31m---------------------------------------------------------------------------\u001b[0m",
      "\u001b[0;31mTypeError\u001b[0m                                 Traceback (most recent call last)",
      "Cell \u001b[0;32mIn[151], line 1\u001b[0m\n\u001b[0;32m----> 1\u001b[0m \u001b[43ma3\u001b[49m\u001b[38;5;241;43m.\u001b[39;49m\u001b[43msort\u001b[49m\u001b[43m(\u001b[49m\u001b[43m)\u001b[49m\n",
      "\u001b[0;31mTypeError\u001b[0m: '<' not supported between instances of 'str' and 'int'"
     ]
    }
   ],
   "source": [
    "a3.sort()"
   ]
  },
  {
   "cell_type": "code",
   "execution_count": 152,
   "id": "5a126c69-2591-4cc5-a78a-bc3ec17b53c1",
   "metadata": {},
   "outputs": [],
   "source": [
    "a4=['riz', 'khan', 'delhi', 'skill']"
   ]
  },
  {
   "cell_type": "code",
   "execution_count": 153,
   "id": "e9c991e2-61a3-4d45-bb02-283cb3257980",
   "metadata": {},
   "outputs": [],
   "source": [
    "a4.sort()"
   ]
  },
  {
   "cell_type": "code",
   "execution_count": 154,
   "id": "0f3f1d5a-4604-49eb-aeff-050498cb248a",
   "metadata": {},
   "outputs": [
    {
     "data": {
      "text/plain": [
       "['delhi', 'khan', 'riz', 'skill']"
      ]
     },
     "execution_count": 154,
     "metadata": {},
     "output_type": "execute_result"
    }
   ],
   "source": [
    "a4"
   ]
  },
  {
   "cell_type": "code",
   "execution_count": 155,
   "id": "40318f66-19a5-430f-a9f1-b4c749262163",
   "metadata": {},
   "outputs": [],
   "source": [
    "a4.sort(reverse=True)"
   ]
  },
  {
   "cell_type": "code",
   "execution_count": 156,
   "id": "3b68d47d-6a55-4122-a63a-f9de3c443200",
   "metadata": {},
   "outputs": [
    {
     "data": {
      "text/plain": [
       "['skill', 'riz', 'khan', 'delhi']"
      ]
     },
     "execution_count": 156,
     "metadata": {},
     "output_type": "execute_result"
    }
   ],
   "source": [
    "a4"
   ]
  },
  {
   "cell_type": "code",
   "execution_count": null,
   "id": "358012c2-7bc5-4044-897c-a41e289de221",
   "metadata": {},
   "outputs": [],
   "source": [
    "#with sort(reverse=True function you can arrange the data in descending order"
   ]
  },
  {
   "cell_type": "code",
   "execution_count": 157,
   "id": "9699a655-6f34-474f-a0da-05d4175f15ce",
   "metadata": {},
   "outputs": [
    {
     "data": {
      "text/plain": [
       "['skill', 'riz', 'khan', 'delhi']"
      ]
     },
     "execution_count": 157,
     "metadata": {},
     "output_type": "execute_result"
    }
   ],
   "source": [
    "a4"
   ]
  },
  {
   "cell_type": "code",
   "execution_count": 158,
   "id": "a149314f-0c5e-40c3-95a0-189fa8135419",
   "metadata": {},
   "outputs": [
    {
     "data": {
      "text/plain": [
       "1"
      ]
     },
     "execution_count": 158,
     "metadata": {},
     "output_type": "execute_result"
    }
   ],
   "source": [
    "a4.count('riz')"
   ]
  },
  {
   "cell_type": "code",
   "execution_count": 159,
   "id": "6c4c12ff-5e30-43d0-a696-745972422f25",
   "metadata": {},
   "outputs": [],
   "source": [
    "#with count you can check how many the particlar data came inside list"
   ]
  },
  {
   "cell_type": "code",
   "execution_count": 160,
   "id": "d53f6fd9-20b3-4faa-8329-3033872ff927",
   "metadata": {},
   "outputs": [],
   "source": [
    "b='rizwan'"
   ]
  },
  {
   "cell_type": "code",
   "execution_count": 161,
   "id": "5cb86ebe-fb22-4937-bd0f-b0ef425a624e",
   "metadata": {},
   "outputs": [],
   "source": [
    "a5=[3,4,5,6]"
   ]
  },
  {
   "cell_type": "code",
   "execution_count": 162,
   "id": "ef6c5192-ca6e-4b12-9b3a-9690004b1b57",
   "metadata": {},
   "outputs": [
    {
     "data": {
      "text/plain": [
       "'r'"
      ]
     },
     "execution_count": 162,
     "metadata": {},
     "output_type": "execute_result"
    }
   ],
   "source": [
    "b[0]"
   ]
  },
  {
   "cell_type": "code",
   "execution_count": 163,
   "id": "1826f9a6-63a7-4471-954c-672aa1cfd0e4",
   "metadata": {},
   "outputs": [
    {
     "ename": "TypeError",
     "evalue": "'str' object does not support item assignment",
     "output_type": "error",
     "traceback": [
      "\u001b[0;31m---------------------------------------------------------------------------\u001b[0m",
      "\u001b[0;31mTypeError\u001b[0m                                 Traceback (most recent call last)",
      "Cell \u001b[0;32mIn[163], line 1\u001b[0m\n\u001b[0;32m----> 1\u001b[0m \u001b[43mb\u001b[49m\u001b[43m[\u001b[49m\u001b[38;5;241;43m0\u001b[39;49m\u001b[43m]\u001b[49m\u001b[38;5;241m=\u001b[39m\u001b[38;5;124m'\u001b[39m\u001b[38;5;124ma\u001b[39m\u001b[38;5;124m'\u001b[39m\n",
      "\u001b[0;31mTypeError\u001b[0m: 'str' object does not support item assignment"
     ]
    }
   ],
   "source": [
    "b[0]='a'"
   ]
  },
  {
   "cell_type": "code",
   "execution_count": 164,
   "id": "f1e6821b-800e-49f0-b492-372e75eae1d4",
   "metadata": {},
   "outputs": [
    {
     "data": {
      "text/plain": [
       "[3, 4, 5, 6]"
      ]
     },
     "execution_count": 164,
     "metadata": {},
     "output_type": "execute_result"
    }
   ],
   "source": [
    "a5"
   ]
  },
  {
   "cell_type": "code",
   "execution_count": 165,
   "id": "b6d498b4-8aa7-46a2-95f0-69a3c2b3ea22",
   "metadata": {},
   "outputs": [
    {
     "data": {
      "text/plain": [
       "3"
      ]
     },
     "execution_count": 165,
     "metadata": {},
     "output_type": "execute_result"
    }
   ],
   "source": [
    "a5[0]"
   ]
  },
  {
   "cell_type": "code",
   "execution_count": 166,
   "id": "ca53dc7d-04ad-4bdc-a868-801b7aa82abd",
   "metadata": {},
   "outputs": [],
   "source": [
    "a5[0]=10"
   ]
  },
  {
   "cell_type": "code",
   "execution_count": 167,
   "id": "63b66006-0b41-4954-b0be-70969cbccbd6",
   "metadata": {},
   "outputs": [
    {
     "data": {
      "text/plain": [
       "[10, 4, 5, 6]"
      ]
     },
     "execution_count": 167,
     "metadata": {},
     "output_type": "execute_result"
    }
   ],
   "source": [
    "a5"
   ]
  },
  {
   "cell_type": "code",
   "execution_count": null,
   "id": "32d50a66-5305-41e2-bfdd-85759e03f60f",
   "metadata": {},
   "outputs": [],
   "source": [
    "#these functions called mutebility and imutebility"
   ]
  },
  {
   "cell_type": "code",
   "execution_count": null,
   "id": "3f731cb5-0a43-4679-aa04-f4fbf06ec0c3",
   "metadata": {},
   "outputs": [],
   "source": [
    "#mute: this function works in list, you can change the data by this function"
   ]
  },
  {
   "cell_type": "code",
   "execution_count": null,
   "id": "71cd6fac-41b8-4467-8ed1-e7e6fda0d525",
   "metadata": {},
   "outputs": [],
   "source": [
    "#Imuted: str are imutebale"
   ]
  },
  {
   "cell_type": "code",
   "execution_count": 168,
   "id": "a57766a0-feb2-4940-a02c-b088acdd9401",
   "metadata": {},
   "outputs": [
    {
     "data": {
      "text/plain": [
       "'rizwan'"
      ]
     },
     "execution_count": 168,
     "metadata": {},
     "output_type": "execute_result"
    }
   ],
   "source": [
    "b"
   ]
  },
  {
   "cell_type": "code",
   "execution_count": 169,
   "id": "e905484b-a85e-45cf-816f-db80c8ae4450",
   "metadata": {},
   "outputs": [
    {
     "data": {
      "text/plain": [
       "'kizwan'"
      ]
     },
     "execution_count": 169,
     "metadata": {},
     "output_type": "execute_result"
    }
   ],
   "source": [
    "b.replace('r', 'k')"
   ]
  },
  {
   "cell_type": "code",
   "execution_count": 170,
   "id": "f8b39446-7f37-49ab-a965-46e37ac1947e",
   "metadata": {},
   "outputs": [
    {
     "data": {
      "text/plain": [
       "'rizwan'"
      ]
     },
     "execution_count": 170,
     "metadata": {},
     "output_type": "execute_result"
    }
   ],
   "source": [
    "b"
   ]
  },
  {
   "cell_type": "code",
   "execution_count": 171,
   "id": "befdb8b2-e5c0-4c3c-9deb-f232374937a4",
   "metadata": {},
   "outputs": [],
   "source": [
    "#this function reassign the data, it doesn't change data, it keep old data as it is"
   ]
  },
  {
   "cell_type": "code",
   "execution_count": 172,
   "id": "3e613cfa-5739-43ee-b8dc-481b69bd9880",
   "metadata": {},
   "outputs": [
    {
     "data": {
      "text/plain": [
       "'rizwan'"
      ]
     },
     "execution_count": 172,
     "metadata": {},
     "output_type": "execute_result"
    }
   ],
   "source": [
    "b"
   ]
  },
  {
   "cell_type": "code",
   "execution_count": 178,
   "id": "94db1cf7-230c-48ae-a732-f0abf27c5564",
   "metadata": {},
   "outputs": [],
   "source": [
    "#tuple function"
   ]
  },
  {
   "cell_type": "code",
   "execution_count": 179,
   "id": "0be64f33-827f-4f5f-8f62-8912d0322f33",
   "metadata": {},
   "outputs": [],
   "source": [
    "#tuple is list type of function, you can keep different type of data. There is only different is tuple keep data in () and list keep data in []"
   ]
  },
  {
   "cell_type": "code",
   "execution_count": 174,
   "id": "f927af21-0cb0-46a4-8406-ae4b4e20e9c0",
   "metadata": {},
   "outputs": [],
   "source": [
    "e=(1,2,3,7, 'riz', 'wan', True, 2+6j, [7,8,9])"
   ]
  },
  {
   "cell_type": "code",
   "execution_count": 176,
   "id": "c6b9e4e2-c4d7-4395-ab55-36f8d74bfb96",
   "metadata": {},
   "outputs": [
    {
     "data": {
      "text/plain": [
       "(1, 2, 3, 7, 'riz', 'wan', True, (2+6j), [7, 8, 9])"
      ]
     },
     "execution_count": 176,
     "metadata": {},
     "output_type": "execute_result"
    }
   ],
   "source": [
    "e"
   ]
  },
  {
   "cell_type": "code",
   "execution_count": 177,
   "id": "e2a0786e-b373-4e3b-9bdf-c0d45866cc39",
   "metadata": {},
   "outputs": [
    {
     "data": {
      "text/plain": [
       "tuple"
      ]
     },
     "execution_count": 177,
     "metadata": {},
     "output_type": "execute_result"
    }
   ],
   "source": [
    "type(e)"
   ]
  },
  {
   "cell_type": "code",
   "execution_count": 180,
   "id": "4864502d-a05a-404d-95ec-0d89f7cbc735",
   "metadata": {},
   "outputs": [
    {
     "data": {
      "text/plain": [
       "9"
      ]
     },
     "execution_count": 180,
     "metadata": {},
     "output_type": "execute_result"
    }
   ],
   "source": [
    "len(e)"
   ]
  },
  {
   "cell_type": "code",
   "execution_count": 181,
   "id": "c9593ae2-3084-495c-b4dd-d3878effddc2",
   "metadata": {},
   "outputs": [
    {
     "data": {
      "text/plain": [
       "1"
      ]
     },
     "execution_count": 181,
     "metadata": {},
     "output_type": "execute_result"
    }
   ],
   "source": [
    "e[0]"
   ]
  },
  {
   "cell_type": "code",
   "execution_count": 182,
   "id": "4c841c92-6ee3-49be-8a3f-2091ba2368b6",
   "metadata": {},
   "outputs": [
    {
     "data": {
      "text/plain": [
       "'riz'"
      ]
     },
     "execution_count": 182,
     "metadata": {},
     "output_type": "execute_result"
    }
   ],
   "source": [
    "e[4]"
   ]
  },
  {
   "cell_type": "code",
   "execution_count": 183,
   "id": "7d427b3f-b5d4-4e54-88da-2d8ff8215e9f",
   "metadata": {},
   "outputs": [
    {
     "ename": "TypeError",
     "evalue": "'tuple' object does not support item assignment",
     "output_type": "error",
     "traceback": [
      "\u001b[0;31m---------------------------------------------------------------------------\u001b[0m",
      "\u001b[0;31mTypeError\u001b[0m                                 Traceback (most recent call last)",
      "Cell \u001b[0;32mIn[183], line 1\u001b[0m\n\u001b[0;32m----> 1\u001b[0m \u001b[43me\u001b[49m\u001b[43m[\u001b[49m\u001b[38;5;241;43m4\u001b[39;49m\u001b[43m]\u001b[49m\u001b[38;5;241m=\u001b[39m\u001b[38;5;124m'\u001b[39m\u001b[38;5;124mrizwan\u001b[39m\u001b[38;5;124m'\u001b[39m\n",
      "\u001b[0;31mTypeError\u001b[0m: 'tuple' object does not support item assignment"
     ]
    }
   ],
   "source": [
    "e[4]='rizwan'"
   ]
  },
  {
   "cell_type": "code",
   "execution_count": 184,
   "id": "7f6368bb-c59b-4f51-a23c-ff025a1fc589",
   "metadata": {},
   "outputs": [
    {
     "data": {
      "text/plain": [
       "[7, 8, 9]"
      ]
     },
     "execution_count": 184,
     "metadata": {},
     "output_type": "execute_result"
    }
   ],
   "source": [
    "e[-1]"
   ]
  },
  {
   "cell_type": "code",
   "execution_count": 185,
   "id": "7d0a97d6-c6eb-4cdf-a1bd-07fbdcf297c3",
   "metadata": {},
   "outputs": [
    {
     "data": {
      "text/plain": [
       "(1, 2, 3, 7, 'riz', 'wan', True, (2+6j), [7, 8, 9])"
      ]
     },
     "execution_count": 185,
     "metadata": {},
     "output_type": "execute_result"
    }
   ],
   "source": [
    "e[::1]"
   ]
  },
  {
   "cell_type": "code",
   "execution_count": 186,
   "id": "8e2cbd99-d35b-4260-9410-71d79810f347",
   "metadata": {},
   "outputs": [
    {
     "data": {
      "text/plain": [
       "['skill', 'riz', 'khan', 'delhi']"
      ]
     },
     "execution_count": 186,
     "metadata": {},
     "output_type": "execute_result"
    }
   ],
   "source": [
    "a4"
   ]
  },
  {
   "cell_type": "code",
   "execution_count": 187,
   "id": "fbe03932-07c3-46b2-b687-4892c62e2bbb",
   "metadata": {},
   "outputs": [
    {
     "data": {
      "text/plain": [
       "'skill'"
      ]
     },
     "execution_count": 187,
     "metadata": {},
     "output_type": "execute_result"
    }
   ],
   "source": [
    "a4[0]"
   ]
  },
  {
   "cell_type": "code",
   "execution_count": 189,
   "id": "2d2dfefc-0c17-466c-ae9c-9818965faa4b",
   "metadata": {},
   "outputs": [],
   "source": [
    "a4[0]= 78"
   ]
  },
  {
   "cell_type": "code",
   "execution_count": 190,
   "id": "07f0fc47-a8f4-4499-805e-adc153fe896b",
   "metadata": {},
   "outputs": [
    {
     "data": {
      "text/plain": [
       "[78, 'riz', 'khan', 'delhi']"
      ]
     },
     "execution_count": 190,
     "metadata": {},
     "output_type": "execute_result"
    }
   ],
   "source": [
    "a4"
   ]
  },
  {
   "cell_type": "code",
   "execution_count": null,
   "id": "3672f77d-db4b-41a2-ad04-948070da023a",
   "metadata": {},
   "outputs": [],
   "source": [
    "#you can change/assign data and change it"
   ]
  },
  {
   "cell_type": "code",
   "execution_count": 191,
   "id": "add3211e-e1ab-4e7a-9b4a-6375238a7e7c",
   "metadata": {},
   "outputs": [
    {
     "data": {
      "text/plain": [
       "(1, 2, 3, 7, 'riz', 'wan', True, (2+6j), [7, 8, 9])"
      ]
     },
     "execution_count": 191,
     "metadata": {},
     "output_type": "execute_result"
    }
   ],
   "source": [
    "e"
   ]
  },
  {
   "cell_type": "code",
   "execution_count": 192,
   "id": "da841e45-d5a0-4daa-a693-9f415ba87a7d",
   "metadata": {},
   "outputs": [
    {
     "data": {
      "text/plain": [
       "'wan'"
      ]
     },
     "execution_count": 192,
     "metadata": {},
     "output_type": "execute_result"
    }
   ],
   "source": [
    "e[5]"
   ]
  },
  {
   "cell_type": "code",
   "execution_count": 193,
   "id": "16b195aa-3427-4799-9b54-8a3b0175df9e",
   "metadata": {},
   "outputs": [
    {
     "ename": "TypeError",
     "evalue": "'tuple' object does not support item assignment",
     "output_type": "error",
     "traceback": [
      "\u001b[0;31m---------------------------------------------------------------------------\u001b[0m",
      "\u001b[0;31mTypeError\u001b[0m                                 Traceback (most recent call last)",
      "Cell \u001b[0;32mIn[193], line 1\u001b[0m\n\u001b[0;32m----> 1\u001b[0m \u001b[43me\u001b[49m\u001b[43m[\u001b[49m\u001b[38;5;241;43m5\u001b[39;49m\u001b[43m]\u001b[49m\u001b[38;5;241m=\u001b[39m \u001b[38;5;124m'\u001b[39m\u001b[38;5;124mkhan\u001b[39m\u001b[38;5;124m'\u001b[39m\n",
      "\u001b[0;31mTypeError\u001b[0m: 'tuple' object does not support item assignment"
     ]
    }
   ],
   "source": [
    "e[5]= 'khan'"
   ]
  },
  {
   "cell_type": "code",
   "execution_count": 194,
   "id": "28723e87-ae85-4c12-b579-a304f33467a6",
   "metadata": {},
   "outputs": [],
   "source": [
    "#you can't change/reassign and can't change the data in tuple"
   ]
  },
  {
   "cell_type": "code",
   "execution_count": 195,
   "id": "581181ae-7615-4057-acff-56906743b067",
   "metadata": {},
   "outputs": [
    {
     "data": {
      "text/plain": [
       "([7, 8, 9], (2+6j), True, 'wan', 'riz', 7, 3, 2, 1)"
      ]
     },
     "execution_count": 195,
     "metadata": {},
     "output_type": "execute_result"
    }
   ],
   "source": [
    "e[::-1]"
   ]
  },
  {
   "cell_type": "code",
   "execution_count": 197,
   "id": "408b7ca7-a08f-4a4c-b131-aa4d4cb52c1d",
   "metadata": {},
   "outputs": [
    {
     "data": {
      "text/plain": [
       "1"
      ]
     },
     "execution_count": 197,
     "metadata": {},
     "output_type": "execute_result"
    }
   ],
   "source": [
    "e.count(7)"
   ]
  },
  {
   "cell_type": "code",
   "execution_count": 198,
   "id": "a7f6bc5a-b2f1-48c9-8f16-2fecc421cb31",
   "metadata": {},
   "outputs": [
    {
     "data": {
      "text/plain": [
       "0"
      ]
     },
     "execution_count": 198,
     "metadata": {},
     "output_type": "execute_result"
    }
   ],
   "source": [
    "e.index(True)"
   ]
  },
  {
   "cell_type": "code",
   "execution_count": 199,
   "id": "1bed0fe4-c789-4523-9d91-aa23c75eb4ab",
   "metadata": {},
   "outputs": [
    {
     "data": {
      "text/plain": [
       "(1, 2, 3, 7, 'riz', 'wan', True, (2+6j), [7, 8, 9])"
      ]
     },
     "execution_count": 199,
     "metadata": {},
     "output_type": "execute_result"
    }
   ],
   "source": [
    "e"
   ]
  },
  {
   "cell_type": "code",
   "execution_count": 200,
   "id": "e8c7ed39-c438-4394-918a-44fd4e555b0c",
   "metadata": {},
   "outputs": [
    {
     "data": {
      "text/plain": [
       "5"
      ]
     },
     "execution_count": 200,
     "metadata": {},
     "output_type": "execute_result"
    }
   ],
   "source": [
    "e.index('wan')"
   ]
  },
  {
   "cell_type": "code",
   "execution_count": 201,
   "id": "fdf0dbc5-50b6-4131-99ac-4269a88e65d5",
   "metadata": {},
   "outputs": [],
   "source": [
    "#set function"
   ]
  },
  {
   "cell_type": "code",
   "execution_count": 202,
   "id": "ebe35018-f735-4dff-bdb0-cad98c927204",
   "metadata": {},
   "outputs": [],
   "source": [
    "e1 ={}"
   ]
  },
  {
   "cell_type": "code",
   "execution_count": 203,
   "id": "a29a2012-84d2-4368-ad79-7343cc8e4371",
   "metadata": {},
   "outputs": [
    {
     "data": {
      "text/plain": [
       "dict"
      ]
     },
     "execution_count": 203,
     "metadata": {},
     "output_type": "execute_result"
    }
   ],
   "source": [
    "type(e1)"
   ]
  },
  {
   "cell_type": "code",
   "execution_count": 204,
   "id": "750e2538-b7b9-4c6a-bd42-34058c1e5ebc",
   "metadata": {},
   "outputs": [],
   "source": [
    "#dict is also called dictonary"
   ]
  },
  {
   "cell_type": "code",
   "execution_count": 205,
   "id": "efa3aef6-a225-41b0-9a7a-d02c55fe8b51",
   "metadata": {},
   "outputs": [],
   "source": [
    "e2={2,3,4,4,56,78}"
   ]
  },
  {
   "cell_type": "code",
   "execution_count": 206,
   "id": "b98d46bf-754b-4485-bd79-44c996fb657c",
   "metadata": {},
   "outputs": [
    {
     "data": {
      "text/plain": [
       "{2, 3, 4, 56, 78}"
      ]
     },
     "execution_count": 206,
     "metadata": {},
     "output_type": "execute_result"
    }
   ],
   "source": [
    "e2"
   ]
  },
  {
   "cell_type": "code",
   "execution_count": 207,
   "id": "c7f964c0-debd-44c2-9e2e-5b19342427b2",
   "metadata": {},
   "outputs": [
    {
     "data": {
      "text/plain": [
       "set"
      ]
     },
     "execution_count": 207,
     "metadata": {},
     "output_type": "execute_result"
    }
   ],
   "source": [
    "type(e2)"
   ]
  },
  {
   "cell_type": "code",
   "execution_count": 208,
   "id": "b948653c-9518-4de0-a266-c3151fa80daa",
   "metadata": {},
   "outputs": [],
   "source": [
    "#set is also use for collection wjhich is keep in {}"
   ]
  },
  {
   "cell_type": "code",
   "execution_count": 209,
   "id": "30807a91-6b18-460f-90e4-9778011b4fb7",
   "metadata": {},
   "outputs": [],
   "source": [
    "#you can't keep list inside set you can keep tuple inside set"
   ]
  },
  {
   "cell_type": "code",
   "execution_count": 210,
   "id": "ff9cf852-13d6-4deb-a6f6-b163bd6e9c17",
   "metadata": {},
   "outputs": [
    {
     "ename": "TypeError",
     "evalue": "unhashable type: 'list'",
     "output_type": "error",
     "traceback": [
      "\u001b[0;31m---------------------------------------------------------------------------\u001b[0m",
      "\u001b[0;31mTypeError\u001b[0m                                 Traceback (most recent call last)",
      "Cell \u001b[0;32mIn[210], line 1\u001b[0m\n\u001b[0;32m----> 1\u001b[0m e3\u001b[38;5;241m=\u001b[39m{\u001b[38;5;241m4\u001b[39m,\u001b[38;5;241m5\u001b[39m,\u001b[38;5;241m6\u001b[39m,\u001b[38;5;241m7\u001b[39m,\u001b[38;5;124m'\u001b[39m\u001b[38;5;124mrizwan\u001b[39m\u001b[38;5;124m'\u001b[39m, \u001b[38;5;241m2\u001b[39m\u001b[38;5;241m+\u001b[39m\u001b[38;5;241m2\u001b[39mj, \u001b[38;5;28;01mTrue\u001b[39;00m, [\u001b[38;5;241m1\u001b[39m,\u001b[38;5;241m2\u001b[39m,\u001b[38;5;241m3\u001b[39m]}\n",
      "\u001b[0;31mTypeError\u001b[0m: unhashable type: 'list'"
     ]
    }
   ],
   "source": [
    "e3={4,5,6,7,'rizwan', 2+2j, True, [1,2,3]}"
   ]
  },
  {
   "cell_type": "code",
   "execution_count": 211,
   "id": "47ad063c-196f-44bf-986c-4509301627bb",
   "metadata": {},
   "outputs": [],
   "source": [
    "e3={4,5,6,7,'rizwan', 2+2j, True, (1,2,3)}"
   ]
  },
  {
   "cell_type": "code",
   "execution_count": 212,
   "id": "da849039-dfc8-44e3-a021-63d382ed447c",
   "metadata": {},
   "outputs": [
    {
     "data": {
      "text/plain": [
       "{(1, 2, 3), (2+2j), 4, 5, 6, 7, True, 'rizwan'}"
      ]
     },
     "execution_count": 212,
     "metadata": {},
     "output_type": "execute_result"
    }
   ],
   "source": [
    "e3"
   ]
  },
  {
   "cell_type": "code",
   "execution_count": 213,
   "id": "40798dfc-e6b1-49ed-aa04-da76eac693b8",
   "metadata": {},
   "outputs": [],
   "source": [
    "e4={2,3,2,3,4,5,6,7,6,7,6,7,2,12,3,4,5,9,9}"
   ]
  },
  {
   "cell_type": "code",
   "execution_count": 215,
   "id": "01a97d39-9871-43f2-a1dd-b2807decfc8a",
   "metadata": {},
   "outputs": [
    {
     "data": {
      "text/plain": [
       "{2, 3, 4, 5, 6, 7, 9, 12}"
      ]
     },
     "execution_count": 215,
     "metadata": {},
     "output_type": "execute_result"
    }
   ],
   "source": [
    "e4"
   ]
  },
  {
   "cell_type": "code",
   "execution_count": 216,
   "id": "4320a77d-3085-4a4e-8170-a7e6eff7f594",
   "metadata": {},
   "outputs": [],
   "source": [
    "#set keep only unique data and remove the duplicate"
   ]
  },
  {
   "cell_type": "code",
   "execution_count": 217,
   "id": "8d9e3798-ee05-4ec8-af09-80a6f4d3f83d",
   "metadata": {},
   "outputs": [],
   "source": [
    "e5={2,3,2,3,4,5,6,7,6,7,6,7,2,12,3,4,5,9,9, 'riz','riz'}"
   ]
  },
  {
   "cell_type": "code",
   "execution_count": 218,
   "id": "812e5998-0f8e-4b2c-ad03-4235bfb23124",
   "metadata": {},
   "outputs": [
    {
     "data": {
      "text/plain": [
       "{12, 2, 3, 4, 5, 6, 7, 9, 'riz'}"
      ]
     },
     "execution_count": 218,
     "metadata": {},
     "output_type": "execute_result"
    }
   ],
   "source": [
    "e5"
   ]
  },
  {
   "cell_type": "code",
   "execution_count": 220,
   "id": "eebdd07f-52e1-4eb1-b96a-ae2df3217de8",
   "metadata": {},
   "outputs": [],
   "source": [
    "e5={2,3,2,3,4,5,6,7,6,7,6,7,2,12,3,4,5,9,9, 'Riz','riz'}"
   ]
  },
  {
   "cell_type": "code",
   "execution_count": 221,
   "id": "b50b3b86-8396-45d2-972e-a49df6dcd747",
   "metadata": {},
   "outputs": [
    {
     "data": {
      "text/plain": [
       "{12, 2, 3, 4, 5, 6, 7, 9, 'Riz', 'riz'}"
      ]
     },
     "execution_count": 221,
     "metadata": {},
     "output_type": "execute_result"
    }
   ],
   "source": [
    "e5"
   ]
  },
  {
   "cell_type": "code",
   "execution_count": 222,
   "id": "90f0c075-67f0-4767-b9e4-2612e34e766f",
   "metadata": {},
   "outputs": [
    {
     "data": {
      "text/plain": [
       "{12, 2, 3, 4, 5, 6, 7, 9, 'Riz', 'riz'}"
      ]
     },
     "execution_count": 222,
     "metadata": {},
     "output_type": "execute_result"
    }
   ],
   "source": [
    "set(e4)"
   ]
  },
  {
   "cell_type": "code",
   "execution_count": 223,
   "id": "8d2934f1-a4c8-4cea-a803-bb121668581b",
   "metadata": {},
   "outputs": [],
   "source": [
    "e4= set(e4)"
   ]
  },
  {
   "cell_type": "code",
   "execution_count": 224,
   "id": "6180be7f-7d66-403e-960f-346920a27726",
   "metadata": {},
   "outputs": [
    {
     "data": {
      "text/plain": [
       "{12, 2, 3, 4, 5, 6, 7, 9, 'Riz', 'riz'}"
      ]
     },
     "execution_count": 224,
     "metadata": {},
     "output_type": "execute_result"
    }
   ],
   "source": [
    "e4"
   ]
  },
  {
   "cell_type": "code",
   "execution_count": 225,
   "id": "c7432c83-9352-4ac2-b592-a6cecfc9be80",
   "metadata": {},
   "outputs": [],
   "source": [
    "e4=list(set(e4))"
   ]
  },
  {
   "cell_type": "code",
   "execution_count": 226,
   "id": "d8d9ba25-3cb7-4243-9cc5-b9eca633a32c",
   "metadata": {},
   "outputs": [
    {
     "data": {
      "text/plain": [
       "[2, 3, 4, 5, 6, 7, 'Riz', 9, 12, 'riz']"
      ]
     },
     "execution_count": 226,
     "metadata": {},
     "output_type": "execute_result"
    }
   ],
   "source": [
    "e4"
   ]
  },
  {
   "cell_type": "code",
   "execution_count": 227,
   "id": "f2f3399a-882d-42ba-9173-3c4df126074b",
   "metadata": {},
   "outputs": [],
   "source": [
    "e4=tuple(set(e4))"
   ]
  },
  {
   "cell_type": "code",
   "execution_count": 228,
   "id": "d13e2807-9443-49c8-b677-6ae0ae70af4a",
   "metadata": {},
   "outputs": [
    {
     "data": {
      "text/plain": [
       "(2, 3, 4, 5, 6, 7, 'Riz', 9, 12, 'riz')"
      ]
     },
     "execution_count": 228,
     "metadata": {},
     "output_type": "execute_result"
    }
   ],
   "source": [
    "e4"
   ]
  },
  {
   "cell_type": "code",
   "execution_count": 229,
   "id": "6c90ee23-9cc6-4dbd-8643-d85fcb396cb9",
   "metadata": {},
   "outputs": [],
   "source": [
    "#with typecasting you can change data in list, tuple and set"
   ]
  },
  {
   "cell_type": "code",
   "execution_count": 230,
   "id": "548970ea-11cc-47f0-a410-21b5eb0e865f",
   "metadata": {},
   "outputs": [],
   "source": [
    "e4=set(e4)"
   ]
  },
  {
   "cell_type": "code",
   "execution_count": 231,
   "id": "54e6738c-9d08-4308-b11d-97ab87d394d8",
   "metadata": {},
   "outputs": [
    {
     "data": {
      "text/plain": [
       "{12, 2, 3, 4, 5, 6, 7, 9, 'Riz', 'riz'}"
      ]
     },
     "execution_count": 231,
     "metadata": {},
     "output_type": "execute_result"
    }
   ],
   "source": [
    "e4"
   ]
  },
  {
   "cell_type": "code",
   "execution_count": 234,
   "id": "1772331f-2c2a-4c30-baf1-13c4c665bf31",
   "metadata": {},
   "outputs": [],
   "source": [
    "f={12,2,68,95.56,34,'abc',34.34}"
   ]
  },
  {
   "cell_type": "code",
   "execution_count": 235,
   "id": "bf411f8a-76e4-40e6-951f-e70696e5bbf8",
   "metadata": {},
   "outputs": [
    {
     "data": {
      "text/plain": [
       "{12, 2, 34, 34.34, 68, 95.56, 'abc'}"
      ]
     },
     "execution_count": 235,
     "metadata": {},
     "output_type": "execute_result"
    }
   ],
   "source": [
    "f"
   ]
  },
  {
   "cell_type": "code",
   "execution_count": 236,
   "id": "319d7be3-ca93-4d86-b6b2-d637d4a3834d",
   "metadata": {},
   "outputs": [],
   "source": [
    "#set never arrange the data in ascending order"
   ]
  },
  {
   "cell_type": "code",
   "execution_count": 237,
   "id": "66a4e16a-d5ab-4c19-aa88-c7616857cea4",
   "metadata": {},
   "outputs": [
    {
     "ename": "TypeError",
     "evalue": "'set' object is not subscriptable",
     "output_type": "error",
     "traceback": [
      "\u001b[0;31m---------------------------------------------------------------------------\u001b[0m",
      "\u001b[0;31mTypeError\u001b[0m                                 Traceback (most recent call last)",
      "Cell \u001b[0;32mIn[237], line 1\u001b[0m\n\u001b[0;32m----> 1\u001b[0m \u001b[43mf\u001b[49m\u001b[43m[\u001b[49m\u001b[38;5;241;43m0\u001b[39;49m\u001b[43m]\u001b[49m\n",
      "\u001b[0;31mTypeError\u001b[0m: 'set' object is not subscriptable"
     ]
    }
   ],
   "source": [
    "f[0]"
   ]
  },
  {
   "cell_type": "code",
   "execution_count": 238,
   "id": "dbb564dc-61f6-4cda-b2f6-6e468fa8e6f1",
   "metadata": {},
   "outputs": [],
   "source": [
    "#add function"
   ]
  },
  {
   "cell_type": "code",
   "execution_count": 239,
   "id": "5ce40acd-8f5c-4225-9009-99c81734a0b9",
   "metadata": {},
   "outputs": [],
   "source": [
    "f.add('rizwan')"
   ]
  },
  {
   "cell_type": "code",
   "execution_count": 240,
   "id": "d44b4fb7-2220-4c8b-9ec3-0d3d1212b12c",
   "metadata": {},
   "outputs": [
    {
     "data": {
      "text/plain": [
       "{12, 2, 34, 34.34, 68, 95.56, 'abc', 'rizwan'}"
      ]
     },
     "execution_count": 240,
     "metadata": {},
     "output_type": "execute_result"
    }
   ],
   "source": [
    "f"
   ]
  },
  {
   "cell_type": "code",
   "execution_count": 241,
   "id": "03cfe9ca-590a-411c-b87a-0c190af54fe2",
   "metadata": {},
   "outputs": [],
   "source": [
    "f.add('abc')"
   ]
  },
  {
   "cell_type": "code",
   "execution_count": 242,
   "id": "cdb95020-5436-4343-9055-e659cbd24899",
   "metadata": {},
   "outputs": [
    {
     "data": {
      "text/plain": [
       "{12, 2, 34, 34.34, 68, 95.56, 'abc', 'rizwan'}"
      ]
     },
     "execution_count": 242,
     "metadata": {},
     "output_type": "execute_result"
    }
   ],
   "source": [
    "f"
   ]
  },
  {
   "cell_type": "code",
   "execution_count": 243,
   "id": "1f2b918c-93d7-4f1d-8f9e-fd3065252a66",
   "metadata": {},
   "outputs": [],
   "source": [
    "#set can't add duplicate items"
   ]
  },
  {
   "cell_type": "code",
   "execution_count": 244,
   "id": "1e2542b8-8601-4e1c-8e4a-a39c1180437f",
   "metadata": {},
   "outputs": [],
   "source": [
    "#remove function"
   ]
  },
  {
   "cell_type": "code",
   "execution_count": 245,
   "id": "58d6a81b-8066-48da-b524-784560e34360",
   "metadata": {},
   "outputs": [],
   "source": [
    "f.remove('rizwan')"
   ]
  },
  {
   "cell_type": "code",
   "execution_count": 246,
   "id": "e964dcfa-eecd-4499-b75a-300a876f3c56",
   "metadata": {},
   "outputs": [
    {
     "data": {
      "text/plain": [
       "{12, 2, 34, 34.34, 68, 95.56, 'abc'}"
      ]
     },
     "execution_count": 246,
     "metadata": {},
     "output_type": "execute_result"
    }
   ],
   "source": [
    "f"
   ]
  },
  {
   "cell_type": "code",
   "execution_count": 247,
   "id": "c38f3d14-b4d6-41c6-84c4-3f03f4f185f2",
   "metadata": {},
   "outputs": [],
   "source": [
    "f.remove(12)"
   ]
  },
  {
   "cell_type": "code",
   "execution_count": 248,
   "id": "ba5894d9-382b-425d-94b5-34a3d04a37c2",
   "metadata": {},
   "outputs": [
    {
     "data": {
      "text/plain": [
       "{2, 34, 34.34, 68, 95.56, 'abc'}"
      ]
     },
     "execution_count": 248,
     "metadata": {},
     "output_type": "execute_result"
    }
   ],
   "source": [
    "f"
   ]
  },
  {
   "cell_type": "code",
   "execution_count": null,
   "id": "6336374e-aa55-4178-ae45-2f3513872a7b",
   "metadata": {},
   "outputs": [],
   "source": []
  }
 ],
 "metadata": {
  "kernelspec": {
   "display_name": "Python 3 (ipykernel)",
   "language": "python",
   "name": "python3"
  },
  "language_info": {
   "codemirror_mode": {
    "name": "ipython",
    "version": 3
   },
   "file_extension": ".py",
   "mimetype": "text/x-python",
   "name": "python",
   "nbconvert_exporter": "python",
   "pygments_lexer": "ipython3",
   "version": "3.10.8"
  }
 },
 "nbformat": 4,
 "nbformat_minor": 5
}
