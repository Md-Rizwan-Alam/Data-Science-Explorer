{
 "cells": [
  {
   "cell_type": "code",
   "execution_count": null,
   "id": "2d14ce61-8081-4ecd-9bb1-9d931065f0cd",
   "metadata": {},
   "outputs": [],
   "source": [
    "#int veriable"
   ]
  },
  {
   "cell_type": "code",
   "execution_count": null,
   "id": "99146e43-f6fe-4a26-8c4b-cec4ae330324",
   "metadata": {},
   "outputs": [
    {
     "data": {
      "text/plain": [
       "2"
      ]
     },
     "execution_count": 1,
     "metadata": {},
     "output_type": "execute_result"
    }
   ],
   "source": [
    "1+1"
   ]
  },
  {
   "cell_type": "code",
   "execution_count": null,
   "id": "3ec03f75-c0f3-444d-a9cc-1604090624ae",
   "metadata": {},
   "outputs": [
    {
     "data": {
      "text/plain": [
       "25"
      ]
     },
     "execution_count": 2,
     "metadata": {},
     "output_type": "execute_result"
    }
   ],
   "source": [
    "5*5"
   ]
  },
  {
   "cell_type": "code",
   "execution_count": null,
   "id": "3c0172d3-ace0-409b-8543-8480b04aef96",
   "metadata": {},
   "outputs": [
    {
     "data": {
      "text/plain": [
       "5.0"
      ]
     },
     "execution_count": 3,
     "metadata": {},
     "output_type": "execute_result"
    }
   ],
   "source": [
    "10/2"
   ]
  },
  {
   "cell_type": "code",
   "execution_count": null,
   "id": "b747bda4-7c62-495d-bce6-809f20d103e8",
   "metadata": {},
   "outputs": [
    {
     "data": {
      "text/plain": [
       "0"
      ]
     },
     "execution_count": 4,
     "metadata": {},
     "output_type": "execute_result"
    }
   ],
   "source": [
    "10%2"
   ]
  },
  {
   "cell_type": "code",
   "execution_count": null,
   "id": "e3ddde87-f93e-43fa-94b8-c87f28a9a57f",
   "metadata": {},
   "outputs": [
    {
     "data": {
      "text/plain": [
       "False"
      ]
     },
     "execution_count": 5,
     "metadata": {},
     "output_type": "execute_result"
    }
   ],
   "source": [
    "4==2"
   ]
  },
  {
   "cell_type": "code",
   "execution_count": 7,
   "id": "d89db12b-1594-4ce6-b64e-6f98abf2bc6b",
   "metadata": {},
   "outputs": [
    {
     "data": {
      "text/plain": [
       "0"
      ]
     },
     "execution_count": 7,
     "metadata": {},
     "output_type": "execute_result"
    }
   ],
   "source": [
    "2//10"
   ]
  },
  {
   "cell_type": "code",
   "execution_count": null,
   "id": "b6e6a7be-deb4-4292-b4f5-935ed412a497",
   "metadata": {},
   "outputs": [
    {
     "data": {
      "text/plain": [
       "27"
      ]
     },
     "execution_count": 6,
     "metadata": {},
     "output_type": "execute_result"
    }
   ],
   "source": [
    "3**3"
   ]
  },
  {
   "cell_type": "code",
   "execution_count": 10,
   "id": "8d610eb3-3186-468d-b08b-84c90ab04545",
   "metadata": {},
   "outputs": [
    {
     "data": {
      "text/plain": [
       "4"
      ]
     },
     "execution_count": 10,
     "metadata": {},
     "output_type": "execute_result"
    }
   ],
   "source": [
    "2**2"
   ]
  },
  {
   "cell_type": "code",
   "execution_count": 12,
   "id": "35539430-9a76-42b3-a1b6-e32964bdefa2",
   "metadata": {},
   "outputs": [
    {
     "data": {
      "text/plain": [
       "False"
      ]
     },
     "execution_count": 12,
     "metadata": {},
     "output_type": "execute_result"
    }
   ],
   "source": [
    "4<=2"
   ]
  },
  {
   "cell_type": "code",
   "execution_count": 13,
   "id": "2308859b-de4b-4867-a7ea-f5be7584a2b6",
   "metadata": {},
   "outputs": [],
   "source": [
    "a = 10"
   ]
  },
  {
   "cell_type": "code",
   "execution_count": 14,
   "id": "e0a7065b-7002-444b-aaf1-bd386c934906",
   "metadata": {},
   "outputs": [
    {
     "data": {
      "text/plain": [
       "10"
      ]
     },
     "execution_count": 14,
     "metadata": {},
     "output_type": "execute_result"
    }
   ],
   "source": [
    "a"
   ]
  },
  {
   "cell_type": "code",
   "execution_count": 16,
   "id": "732c7d3d-18f1-4c37-b94f-28752e1bfb30",
   "metadata": {},
   "outputs": [],
   "source": [
    "riz = 12"
   ]
  },
  {
   "cell_type": "code",
   "execution_count": 17,
   "id": "e403edcd-4c8c-4c26-a9e5-eed46f77315d",
   "metadata": {},
   "outputs": [
    {
     "data": {
      "text/plain": [
       "12"
      ]
     },
     "execution_count": 17,
     "metadata": {},
     "output_type": "execute_result"
    }
   ],
   "source": [
    "riz"
   ]
  },
  {
   "cell_type": "code",
   "execution_count": 18,
   "id": "6bc7924a-159a-4c7f-8b02-2d978363f0ed",
   "metadata": {},
   "outputs": [
    {
     "data": {
      "text/plain": [
       "int"
      ]
     },
     "execution_count": 18,
     "metadata": {},
     "output_type": "execute_result"
    }
   ],
   "source": [
    "type(riz)"
   ]
  },
  {
   "cell_type": "code",
   "execution_count": 19,
   "id": "91651a39-4a6d-40e5-87d0-36e1a4748587",
   "metadata": {},
   "outputs": [
    {
     "data": {
      "text/plain": [
       "22"
      ]
     },
     "execution_count": 19,
     "metadata": {},
     "output_type": "execute_result"
    }
   ],
   "source": [
    "a + riz"
   ]
  },
  {
   "cell_type": "code",
   "execution_count": 20,
   "id": "484ff47a-a2f8-4845-a9ce-b87cd758b01b",
   "metadata": {},
   "outputs": [
    {
     "data": {
      "text/plain": [
       "2"
      ]
     },
     "execution_count": 20,
     "metadata": {},
     "output_type": "execute_result"
    }
   ],
   "source": [
    "riz - 10"
   ]
  },
  {
   "cell_type": "code",
   "execution_count": 21,
   "id": "c468beff-1bc6-4f23-b0cf-538b7ddf9e3c",
   "metadata": {},
   "outputs": [
    {
     "data": {
      "text/plain": [
       "1.2"
      ]
     },
     "execution_count": 21,
     "metadata": {},
     "output_type": "execute_result"
    }
   ],
   "source": [
    "riz / a"
   ]
  },
  {
   "cell_type": "code",
   "execution_count": null,
   "id": "af7d129d-5a25-404d-9075-26b012a9f2f3",
   "metadata": {},
   "outputs": [],
   "source": [
    "#str veriable"
   ]
  },
  {
   "cell_type": "code",
   "execution_count": 24,
   "id": "e2789399-6fa1-4bdf-8ff3-3a2b33bfa782",
   "metadata": {},
   "outputs": [],
   "source": [
    "a = 'riz'\n",
    "b = 'wan'"
   ]
  },
  {
   "cell_type": "code",
   "execution_count": 25,
   "id": "9935ac22-36f6-4877-baee-941ed26f712d",
   "metadata": {},
   "outputs": [
    {
     "data": {
      "text/plain": [
       "'rizwan'"
      ]
     },
     "execution_count": 25,
     "metadata": {},
     "output_type": "execute_result"
    }
   ],
   "source": [
    "a + b"
   ]
  },
  {
   "cell_type": "code",
   "execution_count": 26,
   "id": "7344ae52-d295-48c1-8d88-29fd65e0add1",
   "metadata": {},
   "outputs": [
    {
     "data": {
      "text/plain": [
       "str"
      ]
     },
     "execution_count": 26,
     "metadata": {},
     "output_type": "execute_result"
    }
   ],
   "source": [
    "type(a)"
   ]
  },
  {
   "cell_type": "code",
   "execution_count": 27,
   "id": "b6853eae-18b4-499e-8314-bf592eed4a0e",
   "metadata": {},
   "outputs": [
    {
     "data": {
      "text/plain": [
       "str"
      ]
     },
     "execution_count": 27,
     "metadata": {},
     "output_type": "execute_result"
    }
   ],
   "source": [
    "type(a+b)"
   ]
  },
  {
   "cell_type": "code",
   "execution_count": null,
   "id": "e3a08adc-fbbe-4983-9425-44d40dc2c7ea",
   "metadata": {},
   "outputs": [],
   "source": [
    "#float veriable"
   ]
  },
  {
   "cell_type": "code",
   "execution_count": 28,
   "id": "6c199bb4-6d7a-4345-877b-59e22ac3ff28",
   "metadata": {},
   "outputs": [],
   "source": [
    "a = 20.40\n",
    "b = 30.19"
   ]
  },
  {
   "cell_type": "code",
   "execution_count": 29,
   "id": "41c3fa7d-c30e-4637-8e69-6abb5c7faf9a",
   "metadata": {},
   "outputs": [
    {
     "data": {
      "text/plain": [
       "50.59"
      ]
     },
     "execution_count": 29,
     "metadata": {},
     "output_type": "execute_result"
    }
   ],
   "source": [
    "a+b"
   ]
  },
  {
   "cell_type": "code",
   "execution_count": 30,
   "id": "3acba72a-258e-4887-b5ef-f907df020b6b",
   "metadata": {},
   "outputs": [
    {
     "data": {
      "text/plain": [
       "float"
      ]
     },
     "execution_count": 30,
     "metadata": {},
     "output_type": "execute_result"
    }
   ],
   "source": [
    "type(a)"
   ]
  },
  {
   "cell_type": "code",
   "execution_count": 31,
   "id": "0c0b202d-4c11-44f4-bef9-b7e532193e32",
   "metadata": {},
   "outputs": [
    {
     "data": {
      "text/plain": [
       "float"
      ]
     },
     "execution_count": 31,
     "metadata": {},
     "output_type": "execute_result"
    }
   ],
   "source": [
    "type(a+b)"
   ]
  },
  {
   "cell_type": "code",
   "execution_count": 33,
   "id": "e53163e7-66bd-41ed-9224-1efada8bddee",
   "metadata": {},
   "outputs": [
    {
     "name": "stdout",
     "output_type": "stream",
     "text": [
      "r\n",
      "i\n",
      "z\n",
      "w\n",
      "a\n",
      "n\n"
     ]
    }
   ],
   "source": [
    "c = \"rizwan\"\n",
    "for i in c :\n",
    "    print(i)"
   ]
  },
  {
   "cell_type": "code",
   "execution_count": 34,
   "id": "286585d2-14a1-4fd2-8faa-a71976161647",
   "metadata": {},
   "outputs": [
    {
     "data": {
      "text/plain": [
       "str"
      ]
     },
     "execution_count": 34,
     "metadata": {},
     "output_type": "execute_result"
    }
   ],
   "source": [
    "type(c)"
   ]
  },
  {
   "cell_type": "code",
   "execution_count": 35,
   "id": "45349261-3751-4e21-ba18-5822bde848cd",
   "metadata": {},
   "outputs": [],
   "source": [
    "d = 'my name is khan'"
   ]
  },
  {
   "cell_type": "code",
   "execution_count": 36,
   "id": "74de24a1-8113-4e91-b6a4-e498c1ad96f6",
   "metadata": {},
   "outputs": [
    {
     "data": {
      "text/plain": [
       "str"
      ]
     },
     "execution_count": 36,
     "metadata": {},
     "output_type": "execute_result"
    }
   ],
   "source": [
    "type(d)"
   ]
  },
  {
   "cell_type": "code",
   "execution_count": 37,
   "id": "eb0c24be-a0c7-4028-908d-e4c37991bc08",
   "metadata": {},
   "outputs": [],
   "source": [
    "e = 'riz'\n",
    "f = 'wan'"
   ]
  },
  {
   "cell_type": "code",
   "execution_count": 38,
   "id": "c85eea99-d81c-427a-9cd4-8ddb6af39050",
   "metadata": {},
   "outputs": [
    {
     "data": {
      "text/plain": [
       "'riz'"
      ]
     },
     "execution_count": 38,
     "metadata": {},
     "output_type": "execute_result"
    }
   ],
   "source": [
    "e"
   ]
  },
  {
   "cell_type": "code",
   "execution_count": 39,
   "id": "5ada4457-fa8b-4743-885c-65b1856b68c5",
   "metadata": {},
   "outputs": [
    {
     "data": {
      "text/plain": [
       "'wan'"
      ]
     },
     "execution_count": 39,
     "metadata": {},
     "output_type": "execute_result"
    }
   ],
   "source": [
    "f"
   ]
  },
  {
   "cell_type": "code",
   "execution_count": 40,
   "id": "5f5fb628-2f6b-4925-a3b3-7a63cc54bc60",
   "metadata": {},
   "outputs": [
    {
     "data": {
      "text/plain": [
       "'rizwan'"
      ]
     },
     "execution_count": 40,
     "metadata": {},
     "output_type": "execute_result"
    }
   ],
   "source": [
    "e+f"
   ]
  },
  {
   "cell_type": "code",
   "execution_count": 41,
   "id": "1ea7264e-3ec5-45cb-a8a3-4dd3354f5f91",
   "metadata": {},
   "outputs": [
    {
     "data": {
      "text/plain": [
       "str"
      ]
     },
     "execution_count": 41,
     "metadata": {},
     "output_type": "execute_result"
    }
   ],
   "source": [
    "type(e+f)"
   ]
  },
  {
   "cell_type": "code",
   "execution_count": 44,
   "id": "9cd89486-0c73-4732-a961-4f4116824105",
   "metadata": {},
   "outputs": [
    {
     "data": {
      "text/plain": [
       "False"
      ]
     },
     "execution_count": 44,
     "metadata": {},
     "output_type": "execute_result"
    }
   ],
   "source": [
    "2 == 4"
   ]
  },
  {
   "cell_type": "code",
   "execution_count": 45,
   "id": "15d750dc-0f0a-47e1-bee4-29c24ba69791",
   "metadata": {},
   "outputs": [
    {
     "data": {
      "text/plain": [
       "int"
      ]
     },
     "execution_count": 45,
     "metadata": {},
     "output_type": "execute_result"
    }
   ],
   "source": [
    "type(2)"
   ]
  },
  {
   "cell_type": "code",
   "execution_count": 46,
   "id": "55812384-396c-4446-8c87-3b623e0d38d3",
   "metadata": {},
   "outputs": [
    {
     "data": {
      "text/plain": [
       "True"
      ]
     },
     "execution_count": 46,
     "metadata": {},
     "output_type": "execute_result"
    }
   ],
   "source": [
    "2==2"
   ]
  },
  {
   "cell_type": "code",
   "execution_count": null,
   "id": "d55db0c0-d244-4425-887c-97b1c8f891c2",
   "metadata": {},
   "outputs": [],
   "source": [
    "#bool veriable"
   ]
  },
  {
   "cell_type": "code",
   "execution_count": 47,
   "id": "b1997e2b-3064-420e-bbf5-137e7e26a953",
   "metadata": {},
   "outputs": [],
   "source": [
    "n = True"
   ]
  },
  {
   "cell_type": "code",
   "execution_count": 48,
   "id": "0c9c5b65-9a6c-475b-a739-8773e703bf4e",
   "metadata": {},
   "outputs": [
    {
     "data": {
      "text/plain": [
       "bool"
      ]
     },
     "execution_count": 48,
     "metadata": {},
     "output_type": "execute_result"
    }
   ],
   "source": [
    "type(n)"
   ]
  },
  {
   "cell_type": "code",
   "execution_count": 50,
   "id": "80e5b52f-49a2-4b9a-82f1-aa371740388e",
   "metadata": {},
   "outputs": [],
   "source": [
    "m = False"
   ]
  },
  {
   "cell_type": "code",
   "execution_count": 51,
   "id": "d8640488-beb7-4bc7-8605-60e079c60b81",
   "metadata": {},
   "outputs": [
    {
     "data": {
      "text/plain": [
       "bool"
      ]
     },
     "execution_count": 51,
     "metadata": {},
     "output_type": "execute_result"
    }
   ],
   "source": [
    "type(m)"
   ]
  },
  {
   "cell_type": "code",
   "execution_count": 52,
   "id": "ccee9b3f-f8f4-4589-b83d-a0b870e485b3",
   "metadata": {},
   "outputs": [
    {
     "data": {
      "text/plain": [
       "1"
      ]
     },
     "execution_count": 52,
     "metadata": {},
     "output_type": "execute_result"
    }
   ],
   "source": [
    "n+m"
   ]
  },
  {
   "cell_type": "code",
   "execution_count": 53,
   "id": "2127494b-b2f0-408e-9765-2d740661309b",
   "metadata": {},
   "outputs": [
    {
     "data": {
      "text/plain": [
       "int"
      ]
     },
     "execution_count": 53,
     "metadata": {},
     "output_type": "execute_result"
    }
   ],
   "source": [
    "type(n+m)"
   ]
  },
  {
   "cell_type": "code",
   "execution_count": 54,
   "id": "c73af842-6061-4060-b0bb-3715140fe74a",
   "metadata": {},
   "outputs": [
    {
     "data": {
      "text/plain": [
       "1"
      ]
     },
     "execution_count": 54,
     "metadata": {},
     "output_type": "execute_result"
    }
   ],
   "source": [
    "True * True"
   ]
  },
  {
   "cell_type": "code",
   "execution_count": 55,
   "id": "3200bd05-8744-4337-a7ed-30ec8a937871",
   "metadata": {},
   "outputs": [
    {
     "data": {
      "text/plain": [
       "0"
      ]
     },
     "execution_count": 55,
     "metadata": {},
     "output_type": "execute_result"
    }
   ],
   "source": [
    "True * False"
   ]
  },
  {
   "cell_type": "code",
   "execution_count": 56,
   "id": "b1bc7ba7-0e53-45bc-95ae-a6fa8f742368",
   "metadata": {},
   "outputs": [
    {
     "data": {
      "text/plain": [
       "0"
      ]
     },
     "execution_count": 56,
     "metadata": {},
     "output_type": "execute_result"
    }
   ],
   "source": [
    "False * False"
   ]
  },
  {
   "cell_type": "code",
   "execution_count": 57,
   "id": "3f90b9e4-8343-4b53-af20-4289928bce7b",
   "metadata": {},
   "outputs": [
    {
     "data": {
      "text/plain": [
       "1"
      ]
     },
     "execution_count": 57,
     "metadata": {},
     "output_type": "execute_result"
    }
   ],
   "source": [
    "True + False"
   ]
  },
  {
   "cell_type": "code",
   "execution_count": 58,
   "id": "67db11c5-e41f-4184-b730-3a83148eee2c",
   "metadata": {},
   "outputs": [
    {
     "data": {
      "text/plain": [
       "2"
      ]
     },
     "execution_count": 58,
     "metadata": {},
     "output_type": "execute_result"
    }
   ],
   "source": [
    "True + True"
   ]
  },
  {
   "cell_type": "code",
   "execution_count": 59,
   "id": "15f2d24a-00c3-437b-89ce-cfde7481cdc1",
   "metadata": {},
   "outputs": [
    {
     "data": {
      "text/plain": [
       "0"
      ]
     },
     "execution_count": 59,
     "metadata": {},
     "output_type": "execute_result"
    }
   ],
   "source": [
    "False + False"
   ]
  },
  {
   "cell_type": "code",
   "execution_count": 60,
   "id": "ee71ad4b-3e7d-41cc-abd9-ef9d97f20237",
   "metadata": {},
   "outputs": [
    {
     "ename": "ZeroDivisionError",
     "evalue": "division by zero",
     "output_type": "error",
     "traceback": [
      "\u001b[0;31m---------------------------------------------------------------------------\u001b[0m",
      "\u001b[0;31mZeroDivisionError\u001b[0m                         Traceback (most recent call last)",
      "Cell \u001b[0;32mIn[60], line 1\u001b[0m\n\u001b[0;32m----> 1\u001b[0m \u001b[38;5;28;43;01mTrue\u001b[39;49;00m\u001b[43m \u001b[49m\u001b[38;5;241;43m/\u001b[39;49m\u001b[43m \u001b[49m\u001b[38;5;28;43;01mFalse\u001b[39;49;00m\n",
      "\u001b[0;31mZeroDivisionError\u001b[0m: division by zero"
     ]
    }
   ],
   "source": [
    "True / False"
   ]
  },
  {
   "cell_type": "code",
   "execution_count": 61,
   "id": "33d7c786-a29c-4616-b4e5-18ab9a329934",
   "metadata": {},
   "outputs": [
    {
     "data": {
      "text/plain": [
       "0.0"
      ]
     },
     "execution_count": 61,
     "metadata": {},
     "output_type": "execute_result"
    }
   ],
   "source": [
    "False / True"
   ]
  },
  {
   "cell_type": "code",
   "execution_count": null,
   "id": "881b60da-4cd2-4222-ae24-89694314ce31",
   "metadata": {},
   "outputs": [],
   "source": [
    "#complex Number"
   ]
  },
  {
   "cell_type": "code",
   "execution_count": 8,
   "id": "651fe9bb-3e3a-46f8-919b-bf47eccf4e8d",
   "metadata": {},
   "outputs": [],
   "source": [
    "a = 5+4j"
   ]
  },
  {
   "cell_type": "code",
   "execution_count": 2,
   "id": "70d2afd2-02bf-4584-a434-2a5f7eee73da",
   "metadata": {},
   "outputs": [
    {
     "data": {
      "text/plain": [
       "complex"
      ]
     },
     "execution_count": 2,
     "metadata": {},
     "output_type": "execute_result"
    }
   ],
   "source": [
    "type(a)"
   ]
  },
  {
   "cell_type": "code",
   "execution_count": 9,
   "id": "6b01fda8-8686-41d7-ae0e-55d536127a79",
   "metadata": {},
   "outputs": [
    {
     "data": {
      "text/plain": [
       "(5+4j)"
      ]
     },
     "execution_count": 9,
     "metadata": {},
     "output_type": "execute_result"
    }
   ],
   "source": [
    "a"
   ]
  },
  {
   "cell_type": "code",
   "execution_count": 6,
   "id": "cf588b68-9c1f-4fbb-b0bf-9948c6d70303",
   "metadata": {},
   "outputs": [
    {
     "data": {
      "text/plain": [
       "5.0"
      ]
     },
     "execution_count": 6,
     "metadata": {},
     "output_type": "execute_result"
    }
   ],
   "source": [
    "a.real"
   ]
  },
  {
   "cell_type": "code",
   "execution_count": 10,
   "id": "31dc9e75-8a32-43f6-b0e2-2c68b2f6a490",
   "metadata": {},
   "outputs": [
    {
     "data": {
      "text/plain": [
       "4.0"
      ]
     },
     "execution_count": 10,
     "metadata": {},
     "output_type": "execute_result"
    }
   ],
   "source": [
    "a.imag"
   ]
  },
  {
   "cell_type": "code",
   "execution_count": 12,
   "id": "c109c77a-0501-4529-905a-148a357d0666",
   "metadata": {},
   "outputs": [],
   "source": [
    "b = 5+8j"
   ]
  },
  {
   "cell_type": "code",
   "execution_count": 13,
   "id": "03a647cd-a7d4-479d-9664-6f725730ee92",
   "metadata": {},
   "outputs": [
    {
     "data": {
      "text/plain": [
       "(5+8j)"
      ]
     },
     "execution_count": 13,
     "metadata": {},
     "output_type": "execute_result"
    }
   ],
   "source": [
    "b"
   ]
  },
  {
   "cell_type": "code",
   "execution_count": 14,
   "id": "e0b6821f-d4bb-469a-aa0b-cb6f9da7f888",
   "metadata": {},
   "outputs": [
    {
     "data": {
      "text/plain": [
       "(10+12j)"
      ]
     },
     "execution_count": 14,
     "metadata": {},
     "output_type": "execute_result"
    }
   ],
   "source": [
    "a+b"
   ]
  },
  {
   "cell_type": "code",
   "execution_count": 15,
   "id": "d1dbc03e-540d-4310-8491-b339c083b9b3",
   "metadata": {},
   "outputs": [
    {
     "data": {
      "text/plain": [
       "complex"
      ]
     },
     "execution_count": 15,
     "metadata": {},
     "output_type": "execute_result"
    }
   ],
   "source": [
    "type(a+b)"
   ]
  },
  {
   "cell_type": "code",
   "execution_count": 16,
   "id": "2248d501-23a0-4d09-ac3f-188adec4eb2c",
   "metadata": {},
   "outputs": [
    {
     "data": {
      "text/plain": [
       "(10+4j)"
      ]
     },
     "execution_count": 16,
     "metadata": {},
     "output_type": "execute_result"
    }
   ],
   "source": [
    "a+b.real"
   ]
  },
  {
   "cell_type": "code",
   "execution_count": 17,
   "id": "67744490-7e22-42bd-9aaf-43c703a53739",
   "metadata": {},
   "outputs": [
    {
     "data": {
      "text/plain": [
       "(13+4j)"
      ]
     },
     "execution_count": 17,
     "metadata": {},
     "output_type": "execute_result"
    }
   ],
   "source": [
    "a+b.imag"
   ]
  },
  {
   "cell_type": "code",
   "execution_count": 18,
   "id": "64e9a66a-24e5-4520-87c1-06168ecf3364",
   "metadata": {},
   "outputs": [
    {
     "name": "stdout",
     "output_type": "stream",
     "text": [
      "my name is rizwan\n"
     ]
    }
   ],
   "source": [
    "print(\"my name is rizwan\")"
   ]
  },
  {
   "cell_type": "code",
   "execution_count": 19,
   "id": "e760bbcf-55b0-4ca8-81ee-aefc1c00f92f",
   "metadata": {},
   "outputs": [
    {
     "name": "stdout",
     "output_type": "stream",
     "text": [
      "(10+12j)\n"
     ]
    }
   ],
   "source": [
    "print(a+b)"
   ]
  },
  {
   "cell_type": "code",
   "execution_count": 20,
   "id": "8f2c2b0e-0b0d-4543-b89f-f01a51f12f55",
   "metadata": {},
   "outputs": [
    {
     "name": "stdout",
     "output_type": "stream",
     "text": [
      "(5+4j)\n"
     ]
    }
   ],
   "source": [
    "print(a)"
   ]
  },
  {
   "cell_type": "code",
   "execution_count": 21,
   "id": "c6b2d9de-90e7-4ebc-9091-90bb8d779eb2",
   "metadata": {},
   "outputs": [
    {
     "name": "stdout",
     "output_type": "stream",
     "text": [
      "(5+8j)\n"
     ]
    }
   ],
   "source": [
    "print(b)"
   ]
  },
  {
   "cell_type": "code",
   "execution_count": 22,
   "id": "f3b94da6-4c7c-4475-b3c3-f61a109d31db",
   "metadata": {},
   "outputs": [],
   "source": [
    "c = 'golden'"
   ]
  },
  {
   "cell_type": "code",
   "execution_count": 23,
   "id": "97027606-1ff4-4d9e-93df-be64d645c400",
   "metadata": {},
   "outputs": [
    {
     "data": {
      "text/plain": [
       "str"
      ]
     },
     "execution_count": 23,
     "metadata": {},
     "output_type": "execute_result"
    }
   ],
   "source": [
    "type(c)"
   ]
  },
  {
   "cell_type": "code",
   "execution_count": 24,
   "id": "9b4d90bd-a97a-47f4-b21e-ce1242a93f01",
   "metadata": {},
   "outputs": [
    {
     "data": {
      "text/plain": [
       "'d'"
      ]
     },
     "execution_count": 24,
     "metadata": {},
     "output_type": "execute_result"
    }
   ],
   "source": [
    "c[3]"
   ]
  },
  {
   "cell_type": "code",
   "execution_count": 25,
   "id": "b98c35e6-10b8-4814-9a9e-7e901b534781",
   "metadata": {},
   "outputs": [
    {
     "data": {
      "text/plain": [
       "'l'"
      ]
     },
     "execution_count": 25,
     "metadata": {},
     "output_type": "execute_result"
    }
   ],
   "source": [
    "c[2]"
   ]
  },
  {
   "cell_type": "code",
   "execution_count": 34,
   "id": "ccf7b6bf-57b1-4576-9084-059bd2bbbb77",
   "metadata": {},
   "outputs": [
    {
     "data": {
      "text/plain": [
       "'d'"
      ]
     },
     "execution_count": 34,
     "metadata": {},
     "output_type": "execute_result"
    }
   ],
   "source": [
    "c[-3]"
   ]
  },
  {
   "cell_type": "code",
   "execution_count": 35,
   "id": "9afad342-bd56-473d-bced-4f2e7fddb5db",
   "metadata": {},
   "outputs": [
    {
     "data": {
      "text/plain": [
       "'n'"
      ]
     },
     "execution_count": 35,
     "metadata": {},
     "output_type": "execute_result"
    }
   ],
   "source": [
    "c[-1]"
   ]
  },
  {
   "cell_type": "code",
   "execution_count": 36,
   "id": "664858e3-8f09-486e-bf6f-c57ea431e9b6",
   "metadata": {},
   "outputs": [
    {
     "data": {
      "text/plain": [
       "'g'"
      ]
     },
     "execution_count": 36,
     "metadata": {},
     "output_type": "execute_result"
    }
   ],
   "source": [
    "c[0]"
   ]
  },
  {
   "cell_type": "code",
   "execution_count": 39,
   "id": "e4b94c21-6314-4418-9036-3be6b3e67579",
   "metadata": {},
   "outputs": [
    {
     "data": {
      "text/plain": [
       "'gol'"
      ]
     },
     "execution_count": 39,
     "metadata": {},
     "output_type": "execute_result"
    }
   ],
   "source": [
    "c[0:3]"
   ]
  },
  {
   "cell_type": "code",
   "execution_count": 41,
   "id": "a3ff2a54-bf41-446d-8302-4f1ac30dc29c",
   "metadata": {},
   "outputs": [
    {
     "data": {
      "text/plain": [
       "'den'"
      ]
     },
     "execution_count": 41,
     "metadata": {},
     "output_type": "execute_result"
    }
   ],
   "source": [
    "c[3:6]"
   ]
  },
  {
   "cell_type": "code",
   "execution_count": 43,
   "id": "4fa3d877-5236-418b-8d0e-934567cdeac8",
   "metadata": {},
   "outputs": [
    {
     "data": {
      "text/plain": [
       "'olde'"
      ]
     },
     "execution_count": 43,
     "metadata": {},
     "output_type": "execute_result"
    }
   ],
   "source": [
    "c[-5:-1]"
   ]
  },
  {
   "cell_type": "code",
   "execution_count": null,
   "id": "1d0286d6-758b-4b7c-8f47-0b2339b8585d",
   "metadata": {},
   "outputs": [],
   "source": [
    "#jump by 1 index"
   ]
  },
  {
   "cell_type": "code",
   "execution_count": 46,
   "id": "ecdcaac7-d669-4aeb-a871-e21f3b3f918b",
   "metadata": {},
   "outputs": [
    {
     "data": {
      "text/plain": [
       "'gle'"
      ]
     },
     "execution_count": 46,
     "metadata": {},
     "output_type": "execute_result"
    }
   ],
   "source": [
    "c[0:6:2]"
   ]
  },
  {
   "cell_type": "code",
   "execution_count": 47,
   "id": "795fec94-533d-45ce-b989-33f60352b0cf",
   "metadata": {},
   "outputs": [
    {
     "data": {
      "text/plain": [
       "'gle'"
      ]
     },
     "execution_count": 47,
     "metadata": {},
     "output_type": "execute_result"
    }
   ],
   "source": [
    "c[::2]"
   ]
  },
  {
   "cell_type": "code",
   "execution_count": 48,
   "id": "7b267e6e-3c66-4945-b734-d6cfafa1f3e2",
   "metadata": {},
   "outputs": [
    {
     "data": {
      "text/plain": [
       "'le'"
      ]
     },
     "execution_count": 48,
     "metadata": {},
     "output_type": "execute_result"
    }
   ],
   "source": [
    "c[2::2]"
   ]
  },
  {
   "cell_type": "code",
   "execution_count": 49,
   "id": "9d2a0c0b-a984-4ec8-914e-69c54004ab5d",
   "metadata": {},
   "outputs": [
    {
     "data": {
      "text/plain": [
       "'l'"
      ]
     },
     "execution_count": 49,
     "metadata": {},
     "output_type": "execute_result"
    }
   ],
   "source": [
    "c[2::-5]"
   ]
  },
  {
   "cell_type": "code",
   "execution_count": 50,
   "id": "31ea6e54-038f-4d23-9c7e-bf9ea6316422",
   "metadata": {},
   "outputs": [
    {
     "data": {
      "text/plain": [
       "'ng'"
      ]
     },
     "execution_count": 50,
     "metadata": {},
     "output_type": "execute_result"
    }
   ],
   "source": [
    "c[::-5]"
   ]
  },
  {
   "cell_type": "code",
   "execution_count": null,
   "id": "50d2d9d6-0ebf-4447-a606-700dc0578f25",
   "metadata": {},
   "outputs": [],
   "source": [
    "#revers index"
   ]
  },
  {
   "cell_type": "code",
   "execution_count": 52,
   "id": "25908f3d-46ae-4458-bc43-55a5fb1008a8",
   "metadata": {},
   "outputs": [
    {
     "data": {
      "text/plain": [
       "'nedlog'"
      ]
     },
     "execution_count": 52,
     "metadata": {},
     "output_type": "execute_result"
    }
   ],
   "source": [
    "c[::-1]"
   ]
  },
  {
   "cell_type": "code",
   "execution_count": 60,
   "id": "a38f3f87-7841-4c61-8c43-dc840b62e304",
   "metadata": {},
   "outputs": [],
   "source": [
    "d = 'taskeen'"
   ]
  },
  {
   "cell_type": "code",
   "execution_count": 61,
   "id": "be6be688-998b-4152-96b3-279a048e885e",
   "metadata": {},
   "outputs": [
    {
     "data": {
      "text/plain": [
       "'neeksat'"
      ]
     },
     "execution_count": 61,
     "metadata": {},
     "output_type": "execute_result"
    }
   ],
   "source": [
    "d[::-1]"
   ]
  },
  {
   "cell_type": "code",
   "execution_count": 62,
   "id": "404bcdd5-d47e-4404-b6f2-b77d450d0b30",
   "metadata": {},
   "outputs": [
    {
     "data": {
      "text/plain": [
       "'taskeen'"
      ]
     },
     "execution_count": 62,
     "metadata": {},
     "output_type": "execute_result"
    }
   ],
   "source": [
    "d[::1]"
   ]
  },
  {
   "cell_type": "code",
   "execution_count": 63,
   "id": "0f21df06-6601-4b3f-beec-fb7590c55fc8",
   "metadata": {},
   "outputs": [
    {
     "data": {
      "text/plain": [
       "'goldentaskeen'"
      ]
     },
     "execution_count": 63,
     "metadata": {},
     "output_type": "execute_result"
    }
   ],
   "source": [
    "c+d"
   ]
  },
  {
   "cell_type": "code",
   "execution_count": 64,
   "id": "5e6e0676-78ab-4942-b1ac-1f94e814eceb",
   "metadata": {},
   "outputs": [
    {
     "data": {
      "text/plain": [
       "'goldenneeksat'"
      ]
     },
     "execution_count": 64,
     "metadata": {},
     "output_type": "execute_result"
    }
   ],
   "source": [
    "c+d[::-1]"
   ]
  },
  {
   "cell_type": "code",
   "execution_count": 65,
   "id": "46ad2bfb-73a5-469f-8c32-9aced694e084",
   "metadata": {},
   "outputs": [
    {
     "data": {
      "text/plain": [
       "'goldenneeksat'"
      ]
     },
     "execution_count": 65,
     "metadata": {},
     "output_type": "execute_result"
    }
   ],
   "source": [
    "c+d[::-1]"
   ]
  },
  {
   "cell_type": "code",
   "execution_count": 66,
   "id": "1ded9f59-e091-4336-afda-a7510e7f15f9",
   "metadata": {},
   "outputs": [
    {
     "data": {
      "text/plain": [
       "'taskeennedlog'"
      ]
     },
     "execution_count": 66,
     "metadata": {},
     "output_type": "execute_result"
    }
   ],
   "source": [
    "d+c[::-1]"
   ]
  },
  {
   "cell_type": "code",
   "execution_count": 67,
   "id": "9e315b1a-8c83-44ed-8ec5-387b2713daad",
   "metadata": {},
   "outputs": [
    {
     "data": {
      "text/plain": [
       "'neeksat'"
      ]
     },
     "execution_count": 67,
     "metadata": {},
     "output_type": "execute_result"
    }
   ],
   "source": [
    "d[:-90:-1]"
   ]
  },
  {
   "cell_type": "code",
   "execution_count": null,
   "id": "9c6faae1-6c1f-4418-90e9-2029b839862d",
   "metadata": {},
   "outputs": [],
   "source": [
    "#scaling techniue"
   ]
  },
  {
   "cell_type": "code",
   "execution_count": 53,
   "id": "7758c16e-1741-4991-95b3-fdd7a3dc31cc",
   "metadata": {},
   "outputs": [
    {
     "data": {
      "text/plain": [
       "''"
      ]
     },
     "execution_count": 53,
     "metadata": {},
     "output_type": "execute_result"
    }
   ],
   "source": [
    "c[2:5:-1]"
   ]
  },
  {
   "cell_type": "code",
   "execution_count": 54,
   "id": "79fea42c-c383-47b5-9cc4-0f87a4bd64b4",
   "metadata": {},
   "outputs": [
    {
     "data": {
      "text/plain": [
       "''"
      ]
     },
     "execution_count": 54,
     "metadata": {},
     "output_type": "execute_result"
    }
   ],
   "source": [
    "c[5:0]"
   ]
  },
  {
   "cell_type": "code",
   "execution_count": 55,
   "id": "9eaf62bd-0ae3-42d8-aa42-af1daba1265f",
   "metadata": {},
   "outputs": [
    {
     "data": {
      "text/plain": [
       "'nedlo'"
      ]
     },
     "execution_count": 55,
     "metadata": {},
     "output_type": "execute_result"
    }
   ],
   "source": [
    "c[5:0:-1]"
   ]
  },
  {
   "cell_type": "code",
   "execution_count": null,
   "id": "a202e8fe-447c-439b-be73-d1a38bd85154",
   "metadata": {},
   "outputs": [
    {
     "data": {
      "text/plain": [
       "''"
      ]
     },
     "execution_count": 56,
     "metadata": {},
     "output_type": "execute_result"
    }
   ],
   "source": [
    "c[-2 : -5 : 1]"
   ]
  },
  {
   "cell_type": "code",
   "execution_count": 57,
   "id": "f7b953ec-4796-4124-bb34-f4b069135d85",
   "metadata": {},
   "outputs": [
    {
     "data": {
      "text/plain": [
       "'en'"
      ]
     },
     "execution_count": 57,
     "metadata": {},
     "output_type": "execute_result"
    }
   ],
   "source": [
    "c[-2 :: 1]"
   ]
  },
  {
   "cell_type": "code",
   "execution_count": 58,
   "id": "c25c9919-f4d7-46f7-9120-c3672dc08846",
   "metadata": {},
   "outputs": [
    {
     "data": {
      "text/plain": [
       "''"
      ]
     },
     "execution_count": 58,
     "metadata": {},
     "output_type": "execute_result"
    }
   ],
   "source": [
    "c[-2 : 1]"
   ]
  },
  {
   "cell_type": "code",
   "execution_count": null,
   "id": "aca419a3-0f8e-4a7e-929e-1982637e5d1f",
   "metadata": {},
   "outputs": [],
   "source": [
    "#list"
   ]
  },
  {
   "cell_type": "code",
   "execution_count": 26,
   "id": "4e76f262-e06e-4213-8838-503f2582d1a6",
   "metadata": {},
   "outputs": [],
   "source": [
    "d = [1,3, 'riz', 2.3 , True]"
   ]
  },
  {
   "cell_type": "code",
   "execution_count": 27,
   "id": "778cfaad-cc8d-4b0c-8e0d-a74c25b54454",
   "metadata": {},
   "outputs": [],
   "source": [
    "e =[4,5, 'wan', 2.6, False]"
   ]
  },
  {
   "cell_type": "code",
   "execution_count": 28,
   "id": "f220d926-d18e-48db-9512-5df8ef4e63dc",
   "metadata": {},
   "outputs": [
    {
     "data": {
      "text/plain": [
       "list"
      ]
     },
     "execution_count": 28,
     "metadata": {},
     "output_type": "execute_result"
    }
   ],
   "source": [
    "type(d)"
   ]
  },
  {
   "cell_type": "code",
   "execution_count": 29,
   "id": "812a72e2-222e-42c1-8a86-48d93e3d39c6",
   "metadata": {},
   "outputs": [
    {
     "data": {
      "text/plain": [
       "list"
      ]
     },
     "execution_count": 29,
     "metadata": {},
     "output_type": "execute_result"
    }
   ],
   "source": [
    "type(e)"
   ]
  },
  {
   "cell_type": "code",
   "execution_count": 30,
   "id": "9583503f-b2ad-439f-b1d9-9549e0532ffe",
   "metadata": {},
   "outputs": [
    {
     "data": {
      "text/plain": [
       "[1, 3, 'riz', 2.3, True, 4, 5, 'wan', 2.6, False]"
      ]
     },
     "execution_count": 30,
     "metadata": {},
     "output_type": "execute_result"
    }
   ],
   "source": [
    "d+e"
   ]
  },
  {
   "cell_type": "code",
   "execution_count": 31,
   "id": "43275979-d2b7-473c-9da2-b5663c52212b",
   "metadata": {},
   "outputs": [
    {
     "data": {
      "text/plain": [
       "list"
      ]
     },
     "execution_count": 31,
     "metadata": {},
     "output_type": "execute_result"
    }
   ],
   "source": [
    "type(d+e)"
   ]
  },
  {
   "cell_type": "code",
   "execution_count": 68,
   "id": "62d85adf-dea5-468a-913d-33fcbef96b24",
   "metadata": {},
   "outputs": [],
   "source": [
    "#str indexes"
   ]
  },
  {
   "cell_type": "code",
   "execution_count": 69,
   "id": "1d825268-d1e3-44c8-8e59-c5134ba165f4",
   "metadata": {},
   "outputs": [],
   "source": [
    "a = 'this is my python class'"
   ]
  },
  {
   "cell_type": "code",
   "execution_count": 73,
   "id": "b544478b-1a76-43a8-9e9d-adecf6099e9d",
   "metadata": {},
   "outputs": [
    {
     "data": {
      "text/plain": [
       "23"
      ]
     },
     "execution_count": 73,
     "metadata": {},
     "output_type": "execute_result"
    }
   ],
   "source": [
    "len(a)"
   ]
  },
  {
   "cell_type": "code",
   "execution_count": 74,
   "id": "eb30bf9c-e6bf-4701-bcbd-262008a9c16b",
   "metadata": {},
   "outputs": [
    {
     "data": {
      "text/plain": [
       "3"
      ]
     },
     "execution_count": 74,
     "metadata": {},
     "output_type": "execute_result"
    }
   ],
   "source": [
    "a.find('s')"
   ]
  },
  {
   "cell_type": "code",
   "execution_count": 76,
   "id": "0eabfb2d-946c-4f1f-a841-9510a4789de2",
   "metadata": {},
   "outputs": [
    {
     "data": {
      "text/plain": [
       "11"
      ]
     },
     "execution_count": 76,
     "metadata": {},
     "output_type": "execute_result"
    }
   ],
   "source": [
    "a.find('p')"
   ]
  },
  {
   "cell_type": "code",
   "execution_count": 77,
   "id": "d084dec0-b252-46fa-b133-cacc37910779",
   "metadata": {},
   "outputs": [
    {
     "data": {
      "text/plain": [
       "2"
      ]
     },
     "execution_count": 77,
     "metadata": {},
     "output_type": "execute_result"
    }
   ],
   "source": [
    "a.find('is')"
   ]
  },
  {
   "cell_type": "code",
   "execution_count": 78,
   "id": "b1fb3f48-fcb4-48df-9ff1-b68f579aff51",
   "metadata": {},
   "outputs": [
    {
     "data": {
      "text/plain": [
       "11"
      ]
     },
     "execution_count": 78,
     "metadata": {},
     "output_type": "execute_result"
    }
   ],
   "source": [
    "a.find('python')"
   ]
  },
  {
   "cell_type": "code",
   "execution_count": 79,
   "id": "f565d9f6-78cc-412b-83f2-ace737924fd9",
   "metadata": {},
   "outputs": [
    {
     "data": {
      "text/plain": [
       "-1"
      ]
     },
     "execution_count": 79,
     "metadata": {},
     "output_type": "execute_result"
    }
   ],
   "source": [
    "a.find('iS')"
   ]
  },
  {
   "cell_type": "code",
   "execution_count": 80,
   "id": "404eebcc-0781-453c-8d8a-9bf66cac91fe",
   "metadata": {},
   "outputs": [],
   "source": [
    "#if find commd can't findthe index result should be -1"
   ]
  },
  {
   "cell_type": "code",
   "execution_count": 81,
   "id": "2733db3d-45b3-4d80-8ede-ea377db32f9a",
   "metadata": {},
   "outputs": [
    {
     "data": {
      "text/plain": [
       "4"
      ]
     },
     "execution_count": 81,
     "metadata": {},
     "output_type": "execute_result"
    }
   ],
   "source": [
    "a.count('s')"
   ]
  },
  {
   "cell_type": "code",
   "execution_count": 82,
   "id": "10631412-9a46-4976-b33b-4a8ccd2105b8",
   "metadata": {},
   "outputs": [
    {
     "data": {
      "text/plain": [
       "0"
      ]
     },
     "execution_count": 82,
     "metadata": {},
     "output_type": "execute_result"
    }
   ],
   "source": [
    "a.count('z')"
   ]
  },
  {
   "cell_type": "code",
   "execution_count": 83,
   "id": "0aa08a5b-78bf-436f-915f-aa6b2c72a855",
   "metadata": {},
   "outputs": [
    {
     "data": {
      "text/plain": [
       "'this is my python class'"
      ]
     },
     "execution_count": 83,
     "metadata": {},
     "output_type": "execute_result"
    }
   ],
   "source": [
    "a"
   ]
  },
  {
   "cell_type": "code",
   "execution_count": 84,
   "id": "e3827dd7-168b-447b-9340-33780f92144c",
   "metadata": {},
   "outputs": [],
   "source": [
    "#convert upper lower to upper case"
   ]
  },
  {
   "cell_type": "code",
   "execution_count": 85,
   "id": "c5696263-d0d1-4356-a226-758383da3256",
   "metadata": {},
   "outputs": [
    {
     "data": {
      "text/plain": [
       "'THIS IS MY PYTHON CLASS'"
      ]
     },
     "execution_count": 85,
     "metadata": {},
     "output_type": "execute_result"
    }
   ],
   "source": [
    "a.upper()"
   ]
  },
  {
   "cell_type": "code",
   "execution_count": 86,
   "id": "1fc6e7dc-9071-4804-8fa0-d462f2b63d3e",
   "metadata": {},
   "outputs": [
    {
     "data": {
      "text/plain": [
       "'this is my python class'"
      ]
     },
     "execution_count": 86,
     "metadata": {},
     "output_type": "execute_result"
    }
   ],
   "source": [
    "a.lower()"
   ]
  },
  {
   "cell_type": "code",
   "execution_count": 92,
   "id": "9dda6f57-8b1a-474a-ba14-a6c321bce7e2",
   "metadata": {},
   "outputs": [],
   "source": [
    "#title"
   ]
  },
  {
   "cell_type": "code",
   "execution_count": 91,
   "id": "665f7565-7269-4ab5-be95-686915b87ea3",
   "metadata": {},
   "outputs": [
    {
     "data": {
      "text/plain": [
       "'This Is My Python Class'"
      ]
     },
     "execution_count": 91,
     "metadata": {},
     "output_type": "execute_result"
    }
   ],
   "source": [
    "a.title()"
   ]
  },
  {
   "cell_type": "code",
   "execution_count": 93,
   "id": "e2c4f602-b4f7-46b0-af99-e0b5daafc067",
   "metadata": {},
   "outputs": [
    {
     "data": {
      "text/plain": [
       "'This is my python class'"
      ]
     },
     "execution_count": 93,
     "metadata": {},
     "output_type": "execute_result"
    }
   ],
   "source": [
    "a.capitalize()"
   ]
  },
  {
   "cell_type": "code",
   "execution_count": 94,
   "id": "20f9608c-021f-4bf8-afd6-8d03f177f76c",
   "metadata": {},
   "outputs": [
    {
     "data": {
      "text/plain": [
       "'taskeen'"
      ]
     },
     "execution_count": 94,
     "metadata": {},
     "output_type": "execute_result"
    }
   ],
   "source": [
    "d"
   ]
  },
  {
   "cell_type": "code",
   "execution_count": 96,
   "id": "f641e334-fc4d-4701-8336-87a290486e5b",
   "metadata": {},
   "outputs": [
    {
     "data": {
      "text/plain": [
       "'taskeenthis is my python class'"
      ]
     },
     "execution_count": 96,
     "metadata": {},
     "output_type": "execute_result"
    }
   ],
   "source": [
    "d+a"
   ]
  },
  {
   "cell_type": "code",
   "execution_count": 97,
   "id": "8ac72a7c-b3fd-4acf-acb2-f65b0119f608",
   "metadata": {},
   "outputs": [
    {
     "ename": "TypeError",
     "evalue": "can only concatenate str (not \"int\") to str",
     "output_type": "error",
     "traceback": [
      "\u001b[0;31m---------------------------------------------------------------------------\u001b[0m",
      "\u001b[0;31mTypeError\u001b[0m                                 Traceback (most recent call last)",
      "Cell \u001b[0;32mIn[97], line 1\u001b[0m\n\u001b[0;32m----> 1\u001b[0m \u001b[43md\u001b[49m\u001b[38;5;241;43m+\u001b[39;49m\u001b[38;5;241;43m1\u001b[39;49m\n",
      "\u001b[0;31mTypeError\u001b[0m: can only concatenate str (not \"int\") to str"
     ]
    }
   ],
   "source": [
    "d+1"
   ]
  },
  {
   "cell_type": "code",
   "execution_count": 98,
   "id": "6f8790dd-ce12-46d5-bf66-723ec1f5154e",
   "metadata": {},
   "outputs": [
    {
     "data": {
      "text/plain": [
       "'taskeenrizwan'"
      ]
     },
     "execution_count": 98,
     "metadata": {},
     "output_type": "execute_result"
    }
   ],
   "source": [
    "d+'rizwan'"
   ]
  },
  {
   "cell_type": "code",
   "execution_count": 99,
   "id": "bf1d2c32-ba38-43b4-8d2c-702285220f75",
   "metadata": {},
   "outputs": [],
   "source": [
    "#you can add same veriable, if you want to add one to other verible you have convert first"
   ]
  },
  {
   "cell_type": "code",
   "execution_count": 100,
   "id": "a5c3ecdd-a728-42b5-a454-7f6c88f1d389",
   "metadata": {},
   "outputs": [
    {
     "data": {
      "text/plain": [
       "'taskeen1'"
      ]
     },
     "execution_count": 100,
     "metadata": {},
     "output_type": "execute_result"
    }
   ],
   "source": [
    "d+'1'"
   ]
  },
  {
   "cell_type": "code",
   "execution_count": 101,
   "id": "0d98e24a-75dd-45d2-9853-43352625685b",
   "metadata": {},
   "outputs": [
    {
     "data": {
      "text/plain": [
       "'taskeentaskeentaskeen'"
      ]
     },
     "execution_count": 101,
     "metadata": {},
     "output_type": "execute_result"
    }
   ],
   "source": [
    "d*3"
   ]
  },
  {
   "cell_type": "code",
   "execution_count": 103,
   "id": "145d0b76-8083-4d4d-8946-52eee836d159",
   "metadata": {},
   "outputs": [
    {
     "data": {
      "text/plain": [
       "'rizriz'"
      ]
     },
     "execution_count": 103,
     "metadata": {},
     "output_type": "execute_result"
    }
   ],
   "source": [
    "'riz'*2"
   ]
  },
  {
   "cell_type": "code",
   "execution_count": 104,
   "id": "af0d5645-93a6-4eb4-bc88-fa8b42c73d98",
   "metadata": {},
   "outputs": [
    {
     "ename": "TypeError",
     "evalue": "unsupported operand type(s) for /: 'str' and 'int'",
     "output_type": "error",
     "traceback": [
      "\u001b[0;31m---------------------------------------------------------------------------\u001b[0m",
      "\u001b[0;31mTypeError\u001b[0m                                 Traceback (most recent call last)",
      "Cell \u001b[0;32mIn[104], line 1\u001b[0m\n\u001b[0;32m----> 1\u001b[0m \u001b[38;5;124;43m\"\u001b[39;49m\u001b[38;5;124;43mriz\u001b[39;49m\u001b[38;5;124;43m\"\u001b[39;49m\u001b[38;5;241;43m/\u001b[39;49m\u001b[38;5;241;43m2\u001b[39;49m\n",
      "\u001b[0;31mTypeError\u001b[0m: unsupported operand type(s) for /: 'str' and 'int'"
     ]
    }
   ],
   "source": [
    "\"riz\"/2"
   ]
  },
  {
   "cell_type": "code",
   "execution_count": 105,
   "id": "ff8c6d19-4b6f-49d5-8568-6e3fed417798",
   "metadata": {},
   "outputs": [
    {
     "ename": "TypeError",
     "evalue": "unsupported operand type(s) for -: 'str' and 'int'",
     "output_type": "error",
     "traceback": [
      "\u001b[0;31m---------------------------------------------------------------------------\u001b[0m",
      "\u001b[0;31mTypeError\u001b[0m                                 Traceback (most recent call last)",
      "Cell \u001b[0;32mIn[105], line 1\u001b[0m\n\u001b[0;32m----> 1\u001b[0m \u001b[38;5;124;43m\"\u001b[39;49m\u001b[38;5;124;43mriz\u001b[39;49m\u001b[38;5;124;43m\"\u001b[39;49m\u001b[38;5;241;43m-\u001b[39;49m\u001b[38;5;241;43m2\u001b[39;49m\n",
      "\u001b[0;31mTypeError\u001b[0m: unsupported operand type(s) for -: 'str' and 'int'"
     ]
    }
   ],
   "source": [
    "\"riz\"-2"
   ]
  },
  {
   "cell_type": "code",
   "execution_count": 106,
   "id": "8d955bc8-eaef-4b6f-8492-e858f39e86b6",
   "metadata": {},
   "outputs": [
    {
     "ename": "SyntaxError",
     "evalue": "unterminated string literal (detected at line 1) (4224023972.py, line 1)",
     "output_type": "error",
     "traceback": [
      "\u001b[0;36m  Cell \u001b[0;32mIn[106], line 1\u001b[0;36m\u001b[0m\n\u001b[0;31m    'I can't go outside'\u001b[0m\n\u001b[0m                       ^\u001b[0m\n\u001b[0;31mSyntaxError\u001b[0m\u001b[0;31m:\u001b[0m unterminated string literal (detected at line 1)\n"
     ]
    }
   ],
   "source": [
    "'I can't go outside'"
   ]
  },
  {
   "cell_type": "code",
   "execution_count": null,
   "id": "1321f773-050f-4824-a746-acfcaa1a4963",
   "metadata": {},
   "outputs": [],
   "source": [
    "#if you use single quote inside please use double quote outside"
   ]
  },
  {
   "cell_type": "code",
   "execution_count": 107,
   "id": "ae90e72f-55c7-408c-ad0d-4fd8f6f60c66",
   "metadata": {},
   "outputs": [
    {
     "data": {
      "text/plain": [
       "\"I can't go outside\""
      ]
     },
     "execution_count": 107,
     "metadata": {},
     "output_type": "execute_result"
    }
   ],
   "source": [
    "\"I can't go outside\""
   ]
  },
  {
   "cell_type": "code",
   "execution_count": 115,
   "id": "f6fb7a72-0f9e-43d9-bb76-9b0e05125e62",
   "metadata": {},
   "outputs": [],
   "source": [
    "#for multiple line comment use \"\"\""
   ]
  },
  {
   "cell_type": "code",
   "execution_count": 113,
   "id": "0158e662-0485-4022-ad5a-21de143ecc87",
   "metadata": {},
   "outputs": [
    {
     "ename": "SyntaxError",
     "evalue": "invalid syntax (3040039083.py, line 2)",
     "output_type": "error",
     "traceback": [
      "\u001b[0;36m  Cell \u001b[0;32mIn[113], line 2\u001b[0;36m\u001b[0m\n\u001b[0;31m    becouse weather is not good\u001b[0m\n\u001b[0m            ^\u001b[0m\n\u001b[0;31mSyntaxError\u001b[0m\u001b[0;31m:\u001b[0m invalid syntax\n"
     ]
    }
   ],
   "source": [
    "#I am not going outside today\n",
    "becouse weather is not good\n",
    "outside heavy raining and \n",
    "water is floting everywhere"
   ]
  },
  {
   "cell_type": "code",
   "execution_count": 114,
   "id": "8077e42f-ef97-40ec-94a9-68939fd03d09",
   "metadata": {},
   "outputs": [
    {
     "data": {
      "text/plain": [
       "'I am not going outside today\\nbecouse weather is not good\\noutside heavy raining and \\nwater is floting everywhere'"
      ]
     },
     "execution_count": 114,
     "metadata": {},
     "output_type": "execute_result"
    }
   ],
   "source": [
    "\"\"\"I am not going outside today\n",
    "becouse weather is not good\n",
    "outside heavy raining and \n",
    "water is floting everywhere\"\"\""
   ]
  },
  {
   "cell_type": "code",
   "execution_count": 116,
   "id": "4834bca9-43c7-4812-be00-1fd4932a102d",
   "metadata": {},
   "outputs": [],
   "source": [
    "#\\n is for indicate new line and you can say line connector"
   ]
  },
  {
   "cell_type": "code",
   "execution_count": 117,
   "id": "1a6d4cc6-cbb3-4d7d-8340-44cbfcbd3e1d",
   "metadata": {},
   "outputs": [],
   "source": [
    "g= \"I'm going delhi\""
   ]
  },
  {
   "cell_type": "code",
   "execution_count": 118,
   "id": "5a8e838b-01bc-47e4-b4e7-1e9023ea9332",
   "metadata": {},
   "outputs": [
    {
     "data": {
      "text/plain": [
       "0"
      ]
     },
     "execution_count": 118,
     "metadata": {},
     "output_type": "execute_result"
    }
   ],
   "source": [
    "g.find(g)"
   ]
  },
  {
   "cell_type": "code",
   "execution_count": 121,
   "id": "25467be2-1240-44fe-a3d0-c9c8df75ea46",
   "metadata": {},
   "outputs": [
    {
     "data": {
      "text/plain": [
       "2"
      ]
     },
     "execution_count": 121,
     "metadata": {},
     "output_type": "execute_result"
    }
   ],
   "source": [
    "g.count('i')"
   ]
  },
  {
   "cell_type": "code",
   "execution_count": 124,
   "id": "3e49cd0d-e122-4da6-adc7-384034f7f7da",
   "metadata": {},
   "outputs": [
    {
     "data": {
      "text/plain": [
       "\"IHLED GNIOG M'I\""
      ]
     },
     "execution_count": 124,
     "metadata": {},
     "output_type": "execute_result"
    }
   ],
   "source": [
    "g[::-1].upper()"
   ]
  },
  {
   "cell_type": "code",
   "execution_count": 125,
   "id": "d1ec4790-83e6-4d18-a1e2-eb449d91261b",
   "metadata": {},
   "outputs": [
    {
     "data": {
      "text/plain": [
       "\"I'M GOING DELHI\""
      ]
     },
     "execution_count": 125,
     "metadata": {},
     "output_type": "execute_result"
    }
   ],
   "source": [
    "g[::1].upper()"
   ]
  },
  {
   "cell_type": "code",
   "execution_count": 126,
   "id": "9e67e26d-c3a0-4e05-a533-f1580cb412ac",
   "metadata": {},
   "outputs": [
    {
     "data": {
      "text/plain": [
       "\"I'M Going Delhi\""
      ]
     },
     "execution_count": 126,
     "metadata": {},
     "output_type": "execute_result"
    }
   ],
   "source": [
    "g[::1].title()"
   ]
  },
  {
   "cell_type": "code",
   "execution_count": 127,
   "id": "2ebb5a80-ed73-4392-9574-46dec95a2658",
   "metadata": {},
   "outputs": [
    {
     "data": {
      "text/plain": [
       "\"I'm going delhi\""
      ]
     },
     "execution_count": 127,
     "metadata": {},
     "output_type": "execute_result"
    }
   ],
   "source": [
    "g[::1].capitalize()"
   ]
  }
 ],
 "metadata": {
  "kernelspec": {
   "display_name": "Python 3 (ipykernel)",
   "language": "python",
   "name": "python3"
  },
  "language_info": {
   "codemirror_mode": {
    "name": "ipython",
    "version": 3
   },
   "file_extension": ".py",
   "mimetype": "text/x-python",
   "name": "python",
   "nbconvert_exporter": "python",
   "pygments_lexer": "ipython3",
   "version": "3.10.8"
  }
 },
 "nbformat": 4,
 "nbformat_minor": 5
}
