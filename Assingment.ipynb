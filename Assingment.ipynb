{
 "cells": [
  {
   "cell_type": "code",
   "execution_count": null,
   "id": "d0443d0f-a7ee-4931-8b33-9c29307be181",
   "metadata": {},
   "outputs": [],
   "source": [
    "#Q1. Create one variable containing following type of data:"
   ]
  },
  {
   "cell_type": "code",
   "execution_count": null,
   "id": "993bd485-21f0-4cd5-bd8b-ee8dfe73977e",
   "metadata": {},
   "outputs": [],
   "source": [
    "#(i) string"
   ]
  },
  {
   "cell_type": "code",
   "execution_count": 1,
   "id": "cc0a61f2-ab28-441f-9f1b-88d8afa47450",
   "metadata": {},
   "outputs": [],
   "source": [
    "a = \"rizwan\""
   ]
  },
  {
   "cell_type": "code",
   "execution_count": null,
   "id": "56db09a5-0894-4871-9348-558faa578f3a",
   "metadata": {},
   "outputs": [],
   "source": [
    "#(ii) list"
   ]
  },
  {
   "cell_type": "code",
   "execution_count": 2,
   "id": "60a709b8-6d06-4537-9305-87a7d763afcf",
   "metadata": {},
   "outputs": [],
   "source": [
    "a = [1,2,3, 'riz' , 23.34 , ('riz','wan'), True]"
   ]
  },
  {
   "cell_type": "code",
   "execution_count": null,
   "id": "e547e81d-2bf6-4243-aa5e-b25ff4cfae60",
   "metadata": {},
   "outputs": [],
   "source": [
    "#(iii) float"
   ]
  },
  {
   "cell_type": "code",
   "execution_count": 5,
   "id": "3e0e5543-9026-4b4e-b7f3-e5ec71afdfbb",
   "metadata": {},
   "outputs": [],
   "source": [
    "a = 23.34"
   ]
  },
  {
   "cell_type": "code",
   "execution_count": null,
   "id": "c95d8308-f3a3-4981-b7ba-208bca7a31b0",
   "metadata": {},
   "outputs": [],
   "source": [
    "#(iv) tuple"
   ]
  },
  {
   "cell_type": "code",
   "execution_count": 6,
   "id": "d76dea00-a8ff-4d0f-97fa-4cc01364dcc6",
   "metadata": {},
   "outputs": [],
   "source": [
    "a = ( 'riz' , 'wan' , 'ind' , 'data' )"
   ]
  },
  {
   "cell_type": "code",
   "execution_count": null,
   "id": "b7cef0f3-5ad6-47cc-915f-62bbf2fb0373",
   "metadata": {},
   "outputs": [],
   "source": [
    "#Q2. Given are some following variables containing data:"
   ]
  },
  {
   "cell_type": "code",
   "execution_count": null,
   "id": "a6f8eb61-434e-4964-a34d-e4b2045611fd",
   "metadata": {},
   "outputs": [],
   "source": [
    "#(i) var1 = ‘ ‘"
   ]
  },
  {
   "cell_type": "code",
   "execution_count": 14,
   "id": "bc54d553-dc7a-4703-b320-e48a3bebe23b",
   "metadata": {},
   "outputs": [],
   "source": [
    "a = 'riz'"
   ]
  },
  {
   "cell_type": "code",
   "execution_count": 15,
   "id": "dee95cb8-2f60-4836-837f-6ce83c92dcde",
   "metadata": {},
   "outputs": [
    {
     "data": {
      "text/plain": [
       "str"
      ]
     },
     "execution_count": 15,
     "metadata": {},
     "output_type": "execute_result"
    }
   ],
   "source": [
    "type(a)"
   ]
  },
  {
   "cell_type": "code",
   "execution_count": null,
   "id": "499c98f3-50e9-43d0-84ba-92e26168d7fe",
   "metadata": {},
   "outputs": [],
   "source": [
    "#(ii) var2 = ‘[ DS , ML , Python]’"
   ]
  },
  {
   "cell_type": "code",
   "execution_count": 12,
   "id": "b0476536-5301-42f9-895c-2d05d6eb6ff4",
   "metadata": {},
   "outputs": [],
   "source": [
    "b = '[ riz,wan,khan ]' "
   ]
  },
  {
   "cell_type": "code",
   "execution_count": 13,
   "id": "6dcab046-d55f-46c3-af47-9557e4e7c338",
   "metadata": {},
   "outputs": [
    {
     "data": {
      "text/plain": [
       "str"
      ]
     },
     "execution_count": 13,
     "metadata": {},
     "output_type": "execute_result"
    }
   ],
   "source": [
    "type(b)"
   ]
  },
  {
   "cell_type": "code",
   "execution_count": 11,
   "id": "1f32b281-f7d4-4d75-8156-d7755e89187b",
   "metadata": {},
   "outputs": [],
   "source": [
    "#(iii) var3 = [ ‘DS’ , ’ML’ , ‘Python’ ]"
   ]
  },
  {
   "cell_type": "code",
   "execution_count": 22,
   "id": "79d692e1-5cc2-458f-8f38-b3c73b8c46d6",
   "metadata": {},
   "outputs": [],
   "source": [
    "c = [ 'riz' , 'ind' , 'data' ] "
   ]
  },
  {
   "cell_type": "code",
   "execution_count": 23,
   "id": "a841de63-a25b-4aa8-9153-a63633089c4d",
   "metadata": {},
   "outputs": [
    {
     "data": {
      "text/plain": [
       "list"
      ]
     },
     "execution_count": 23,
     "metadata": {},
     "output_type": "execute_result"
    }
   ],
   "source": [
    "type(c)"
   ]
  },
  {
   "cell_type": "code",
   "execution_count": 24,
   "id": "b7b5c407-eb07-4f69-8521-d9a084417f57",
   "metadata": {},
   "outputs": [],
   "source": [
    "#(iv) var4 = 1."
   ]
  },
  {
   "cell_type": "code",
   "execution_count": 25,
   "id": "4c6cb659-68e8-4a90-a7ae-d816d9c43294",
   "metadata": {},
   "outputs": [],
   "source": [
    "d= 2.4"
   ]
  },
  {
   "cell_type": "code",
   "execution_count": 26,
   "id": "3f2327fb-112e-46a2-8208-46f5a2a89823",
   "metadata": {},
   "outputs": [
    {
     "data": {
      "text/plain": [
       "float"
      ]
     },
     "execution_count": 26,
     "metadata": {},
     "output_type": "execute_result"
    }
   ],
   "source": [
    "type(d)"
   ]
  },
  {
   "cell_type": "code",
   "execution_count": null,
   "id": "ac327864-f864-4d73-8e5a-0ce865e22d2d",
   "metadata": {},
   "outputs": [],
   "source": [
    "#Q3. Explain the use of the following operators using an example:"
   ]
  },
  {
   "cell_type": "code",
   "execution_count": null,
   "id": "c45632c3-838a-47c3-acff-7b53471b5e19",
   "metadata": {},
   "outputs": [],
   "source": [
    "#(i) /"
   ]
  },
  {
   "cell_type": "code",
   "execution_count": 27,
   "id": "f5aac399-a727-40d3-b770-1c31c45e5778",
   "metadata": {},
   "outputs": [
    {
     "data": {
      "text/plain": [
       "0.5"
      ]
     },
     "execution_count": 27,
     "metadata": {},
     "output_type": "execute_result"
    }
   ],
   "source": [
    "2/4"
   ]
  },
  {
   "cell_type": "code",
   "execution_count": null,
   "id": "460aff37-4dbe-465e-803f-8458148a8664",
   "metadata": {},
   "outputs": [],
   "source": [
    "#(ii) %"
   ]
  },
  {
   "cell_type": "code",
   "execution_count": 28,
   "id": "a1831f28-233d-4fcc-af83-259a6552bdfa",
   "metadata": {},
   "outputs": [
    {
     "data": {
      "text/plain": [
       "1"
      ]
     },
     "execution_count": 28,
     "metadata": {},
     "output_type": "execute_result"
    }
   ],
   "source": [
    "1%4"
   ]
  },
  {
   "cell_type": "code",
   "execution_count": null,
   "id": "3930dcb5-ba7c-46b4-9ae5-1c6af88aa2c4",
   "metadata": {},
   "outputs": [],
   "source": [
    "#(iv) **"
   ]
  },
  {
   "cell_type": "code",
   "execution_count": 29,
   "id": "45877a07-71d9-4e03-a7d7-6aa2967b2bbe",
   "metadata": {},
   "outputs": [
    {
     "data": {
      "text/plain": [
       "8"
      ]
     },
     "execution_count": 29,
     "metadata": {},
     "output_type": "execute_result"
    }
   ],
   "source": [
    "2**3"
   ]
  },
  {
   "cell_type": "code",
   "execution_count": null,
   "id": "cf70063d-8637-4aaf-9b32-fecb6b8d2842",
   "metadata": {},
   "outputs": [],
   "source": [
    "#Q4. Create a list of length 10 of your choice containing multiple types of data. Using for loop print the element and its data type."
   ]
  },
  {
   "cell_type": "code",
   "execution_count": 35,
   "id": "75ac146a-811e-40b7-a42b-b200dfe71e6d",
   "metadata": {},
   "outputs": [
    {
     "name": "stdout",
     "output_type": "stream",
     "text": [
      "56\n",
      "<class 'int'>\n",
      "1\n",
      "<class 'int'>\n",
      "2\n",
      "<class 'int'>\n",
      "riz\n",
      "<class 'str'>\n",
      "23.23\n",
      "<class 'float'>\n",
      "('riz', 'wan', 'khan')\n",
      "<class 'tuple'>\n",
      "True\n",
      "<class 'bool'>\n",
      "False\n",
      "<class 'bool'>\n",
      "riz\n",
      "<class 'str'>\n",
      "dta\n",
      "<class 'str'>\n"
     ]
    }
   ],
   "source": [
    "e = [ 56, 1,2, 'riz', 23.23 , ('riz' , 'wan' , 'khan'), True , False , 'riz' , 'dta']\n",
    "for i in e :\n",
    "    print(i)\n",
    "    print (type(i))"
   ]
  },
  {
   "cell_type": "code",
   "execution_count": null,
   "id": "2a942f7a-06a4-4f5a-abf7-19356b478dd6",
   "metadata": {},
   "outputs": [],
   "source": [
    "#Q5. Using a while loop, verify if the number A is purely divisible by number B and if so then how manytimes it can be divisible."
   ]
  },
  {
   "cell_type": "code",
   "execution_count": 39,
   "id": "acc037de-920c-478c-8485-49163062b9cf",
   "metadata": {},
   "outputs": [
    {
     "name": "stdin",
     "output_type": "stream",
     "text": [
      " 3\n",
      " 21\n"
     ]
    },
    {
     "name": "stdout",
     "output_type": "stream",
     "text": [
      "not divisible\n"
     ]
    }
   ],
   "source": [
    "a=int(input())\n",
    "b=int(input())\n",
    "c=0\n",
    "if a/b==0:\n",
    "    while(a/b>=b and type(a/b)==int):\n",
    "        c+=1\n",
    "        a/=b\n",
    "    c\n",
    "else:\n",
    "    print(\"not divisible\")"
   ]
  },
  {
   "cell_type": "code",
   "execution_count": null,
   "id": "dbdacd11-f561-463e-af4c-45331c845abb",
   "metadata": {},
   "outputs": [],
   "source": [
    "#Q6. Create a list containing 25 int type data. Using for loop and if-else condition print if the element isdivisible by 3 or not."
   ]
  },
  {
   "cell_type": "code",
   "execution_count": 62,
   "id": "e94d55cc-adb0-42a2-8400-3690a639f72f",
   "metadata": {},
   "outputs": [
    {
     "name": "stdout",
     "output_type": "stream",
     "text": [
      "1\n",
      "2\n",
      "4\n",
      "5\n",
      "7\n",
      "8\n",
      "10\n",
      "11\n",
      "13\n",
      "14\n",
      "16\n",
      "17\n",
      "19\n",
      "20\n",
      "22\n",
      "23\n",
      "25\n",
      "the element is divisible by 3 or not.\n"
     ]
    }
   ],
   "source": [
    "f = [1,2,3,4,5,6,7,8,9,10,11,12,13,14,15,16,17,18,19,20,21,22,23,24,25]\n",
    "for i in f :\n",
    "    if i%3 :\n",
    "        print(i)\n",
    "else :\n",
    "    print('the element is divisible by 3 or not.')\n",
    "     "
   ]
  },
  {
   "cell_type": "code",
   "execution_count": null,
   "id": "a16f187d-7571-40e2-a047-efeb98f3d290",
   "metadata": {},
   "outputs": [],
   "source": [
    "#Q7. What do you understand about mutable and immutable data types? Give examples for both showingthis property."
   ]
  },
  {
   "cell_type": "code",
   "execution_count": null,
   "id": "0aaef4d4-a579-402e-8b80-8b6688a1d2f6",
   "metadata": {},
   "outputs": [],
   "source": [
    "#mutable"
   ]
  },
  {
   "cell_type": "code",
   "execution_count": 65,
   "id": "4c806bc2-f7d7-406f-9f39-c7978a04cb93",
   "metadata": {},
   "outputs": [],
   "source": [
    "g = [1,2,3,4, 'rizwan', True, 2+ 5j , 12.23]"
   ]
  },
  {
   "cell_type": "code",
   "execution_count": 66,
   "id": "9580db96-4c81-46ed-87ba-46d97346f8d6",
   "metadata": {},
   "outputs": [
    {
     "data": {
      "text/plain": [
       "list"
      ]
     },
     "execution_count": 66,
     "metadata": {},
     "output_type": "execute_result"
    }
   ],
   "source": [
    "type(g)"
   ]
  },
  {
   "cell_type": "code",
   "execution_count": 67,
   "id": "f607746c-ff52-41c2-8b8f-d4dea61c0e71",
   "metadata": {},
   "outputs": [
    {
     "data": {
      "text/plain": [
       "[1, 2, 3, 4, 'rizwan', True, (2+5j), 12.23]"
      ]
     },
     "execution_count": 67,
     "metadata": {},
     "output_type": "execute_result"
    }
   ],
   "source": [
    "g"
   ]
  },
  {
   "cell_type": "code",
   "execution_count": 68,
   "id": "3df298d7-59a1-4e16-8450-a5113aec9571",
   "metadata": {},
   "outputs": [
    {
     "data": {
      "text/plain": [
       "'rizwan'"
      ]
     },
     "execution_count": 68,
     "metadata": {},
     "output_type": "execute_result"
    }
   ],
   "source": [
    "g[4]"
   ]
  },
  {
   "cell_type": "code",
   "execution_count": 69,
   "id": "b8d9f437-28ed-4528-a7ad-dab392644857",
   "metadata": {},
   "outputs": [],
   "source": [
    "g[4] = 'khan'"
   ]
  },
  {
   "cell_type": "code",
   "execution_count": 70,
   "id": "f03b8948-06a9-4d2f-9544-831591a3fc1b",
   "metadata": {},
   "outputs": [
    {
     "data": {
      "text/plain": [
       "'khan'"
      ]
     },
     "execution_count": 70,
     "metadata": {},
     "output_type": "execute_result"
    }
   ],
   "source": [
    "g[4]"
   ]
  },
  {
   "cell_type": "code",
   "execution_count": 71,
   "id": "2ffa5f72-6b25-4e3c-ab2a-52bb052c3d9e",
   "metadata": {},
   "outputs": [
    {
     "data": {
      "text/plain": [
       "[1, 2, 3, 4, 'khan', True, (2+5j), 12.23]"
      ]
     },
     "execution_count": 71,
     "metadata": {},
     "output_type": "execute_result"
    }
   ],
   "source": [
    "g"
   ]
  },
  {
   "cell_type": "code",
   "execution_count": null,
   "id": "38a9d4d1-318d-4b49-984f-64c26b63fe38",
   "metadata": {},
   "outputs": [],
   "source": [
    "#unmutable"
   ]
  },
  {
   "cell_type": "code",
   "execution_count": 72,
   "id": "86cf2bbb-e253-481f-a216-4c7fd1c72004",
   "metadata": {},
   "outputs": [],
   "source": [
    "h = 'rizwan'"
   ]
  },
  {
   "cell_type": "code",
   "execution_count": 73,
   "id": "da4dcd8a-8977-42bd-8aa3-2266fa5ea919",
   "metadata": {},
   "outputs": [
    {
     "data": {
      "text/plain": [
       "'z'"
      ]
     },
     "execution_count": 73,
     "metadata": {},
     "output_type": "execute_result"
    }
   ],
   "source": [
    "h[2]"
   ]
  },
  {
   "cell_type": "code",
   "execution_count": 74,
   "id": "1458edbb-4572-4f8e-9e53-a529fed22aa4",
   "metadata": {},
   "outputs": [
    {
     "ename": "NameError",
     "evalue": "name 'w' is not defined",
     "output_type": "error",
     "traceback": [
      "\u001b[0;31m---------------------------------------------------------------------------\u001b[0m",
      "\u001b[0;31mNameError\u001b[0m                                 Traceback (most recent call last)",
      "Cell \u001b[0;32mIn[74], line 1\u001b[0m\n\u001b[0;32m----> 1\u001b[0m h[\u001b[38;5;241m2\u001b[39m] \u001b[38;5;241m=\u001b[39m \u001b[43mw\u001b[49m\n",
      "\u001b[0;31mNameError\u001b[0m: name 'w' is not defined"
     ]
    }
   ],
   "source": [
    "h[2] = w"
   ]
  }
 ],
 "metadata": {
  "kernelspec": {
   "display_name": "Python 3 (ipykernel)",
   "language": "python",
   "name": "python3"
  },
  "language_info": {
   "codemirror_mode": {
    "name": "ipython",
    "version": 3
   },
   "file_extension": ".py",
   "mimetype": "text/x-python",
   "name": "python",
   "nbconvert_exporter": "python",
   "pygments_lexer": "ipython3",
   "version": "3.10.8"
  }
 },
 "nbformat": 4,
 "nbformat_minor": 5
}
